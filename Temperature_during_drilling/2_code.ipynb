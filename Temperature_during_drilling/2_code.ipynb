{
 "cells": [
  {
   "cell_type": "markdown",
   "id": "e302819d-1ea8-4aa7-bba6-2de604eb5182",
   "metadata": {},
   "source": [
    "# Library Import"
   ]
  },
  {
   "cell_type": "code",
   "execution_count": null,
   "id": "8fe4d8c7-5835-40e6-87c6-bfbe9e885336",
   "metadata": {},
   "outputs": [],
   "source": [
    "!pip install wellpathpy -q\n",
    "!pip install phik -q"
   ]
  },
  {
   "cell_type": "code",
   "execution_count": null,
   "id": "818ad668-8e67-4145-a0ba-663d0a08f74e",
   "metadata": {},
   "outputs": [],
   "source": [
    "import pandas as pd\n",
    "import numpy as np\n",
    "import wellpathpy as wp\n",
    "import matplotlib.pyplot as plt\n",
    "import plotly.express as px\n",
    "import seaborn as sns\n",
    "import phik\n",
    "\n",
    "from scipy.stats import zscore\n",
    "from statsmodels.stats.outliers_influence import variance_inflation_factor\n",
    "from statsmodels.tools.tools import add_constant\n",
    "from sklearn.preprocessing import StandardScaler\n",
    "from sklearn.pipeline import Pipeline\n",
    "from sklearn.compose import ColumnTransformer\n",
    "from sklearn.linear_model import LinearRegression\n",
    "from sklearn.ensemble import RandomForestRegressor\n",
    "from sklearn.metrics import root_mean_squared_error\n",
    "from sklearn.model_selection import GridSearchCV\n",
    "from sklearn.impute import SimpleImputer\n",
    "from lightgbm import LGBMRegressor\n",
    "from catboost import CatBoostRegressor"
   ]
  },
  {
   "cell_type": "markdown",
   "id": "5fb361db-e5bd-4bd8-a931-ea782da7f35d",
   "metadata": {},
   "source": [
    "# Data extraction"
   ]
  },
  {
   "cell_type": "code",
   "execution_count": null,
   "id": "caff1b3f-e02f-409d-89fa-39f5b0a27086",
   "metadata": {},
   "outputs": [],
   "source": [
    "pd.set_option('display.max_columns', None)"
   ]
  },
  {
   "cell_type": "code",
   "execution_count": null,
   "id": "79096520-4b6a-4437-bb89-73d82f367f40",
   "metadata": {},
   "outputs": [],
   "source": [
    "training_dataset_1 = pd.read_csv(\"phase_1/Training_dataset_1.csv\")\n",
    "training_dataset_2 = pd.read_csv(\"phase_1/Training_dataset_2.csv\")\n",
    "training_dataset_3 = pd.read_csv(\"phase_1/Training_dataset_3.csv\")\n",
    "\n",
    "test_1 = pd.read_csv(\"phase_1/Test_dataset_1.csv\")\n",
    "test_2 = pd.read_csv(\"phase_1/Test_dataset_2.csv\")\n",
    "test_3 = pd.read_csv(\"phase_1/Test_dataset_3.csv\")"
   ]
  },
  {
   "cell_type": "code",
   "execution_count": null,
   "id": "199a04c3",
   "metadata": {},
   "outputs": [],
   "source": [
    "# Добавил словарь с именами датасетов для более простого обращения\n",
    "training_datasets = {\n",
    "    \"training_dataset_1\": training_dataset_1,\n",
    "    \"training_dataset_2\": training_dataset_2,\n",
    "    \"training_dataset_3\": training_dataset_3\n",
    "}\n",
    "\n",
    "test_datasets = {\n",
    "    \"test_1\": test_1,\n",
    "    \"test_2\": test_2,\n",
    "    \"test_3\": test_3\n",
    "}"
   ]
  },
  {
   "cell_type": "markdown",
   "id": "0d6dff02-2e4d-4b7a-8e61-652a2055d95a",
   "metadata": {},
   "source": [
    "# Data exploration"
   ]
  },
  {
   "cell_type": "code",
   "execution_count": null,
   "id": "8b7b581f-eac4-4524-a091-5391e2d5dfd0",
   "metadata": {},
   "outputs": [],
   "source": [
    "def data_exploration(df, name):\n",
    "    display(df.head())\n",
    "    display(df.describe())\n",
    "    display(f'Info about data in {name}:')\n",
    "    display(df.info())\n",
    "    display(f'Nan in {name} dataset: {sum(df.isna().sum())}')\n",
    "    display(f'Duplicate rows in {name} dataset: {df.duplicated().sum()}') #хз, для красоты"
   ]
  },
  {
   "cell_type": "code",
   "execution_count": null,
   "id": "d8baf0b3",
   "metadata": {
    "scrolled": true
   },
   "outputs": [],
   "source": [
    "for name, dataset in training_datasets.items():\n",
    "    print(f\"Dataset: {name}\")\n",
    "    data_exploration(dataset, name)"
   ]
  },
  {
   "cell_type": "code",
   "execution_count": null,
   "id": "9647bd32-b1e4-4954-97a9-d7c85bf3e644",
   "metadata": {
    "scrolled": true
   },
   "outputs": [],
   "source": [
    "for name, dataset in test_datasets.items():\n",
    "    print(f\"Dataset: {name}\")\n",
    "    data_exploration(dataset, name)"
   ]
  },
  {
   "cell_type": "markdown",
   "id": "685703d5",
   "metadata": {},
   "source": [
    "All of the data except for `DateTime` is of *float64* type. Let's fix it right away: "
   ]
  },
  {
   "cell_type": "code",
   "execution_count": null,
   "id": "9b2b7e09",
   "metadata": {},
   "outputs": [],
   "source": [
    "for name, dataset in training_datasets.items():\n",
    "    dataset['DateTime'] = pd.to_datetime(dataset['DateTime'])\n",
    "    print(f'{name} datset DateTime type:', dataset['DateTime'].dtype)"
   ]
  },
  {
   "cell_type": "code",
   "execution_count": null,
   "id": "23fb66dc-e8b8-4549-bc85-14b3f34882f6",
   "metadata": {},
   "outputs": [],
   "source": [
    "for name, dataset in test_datasets.items():\n",
    "    dataset['DateTime'] = pd.to_datetime(dataset['DateTime'])\n",
    "    print(f'{name} datset DateTime type:', dataset['DateTime'].dtype)"
   ]
  },
  {
   "cell_type": "markdown",
   "id": "27926ab2-387b-43f8-8f52-1bd73c9f5ee4",
   "metadata": {},
   "source": [
    "# Feature engineering"
   ]
  },
  {
   "cell_type": "markdown",
   "id": "2fb43ce7-a85c-43de-a6e0-f6279076b5cb",
   "metadata": {},
   "source": [
    "## TVD count"
   ]
  },
  {
   "cell_type": "code",
   "execution_count": null,
   "id": "6a7606fd-ea81-4593-bf1d-9324575e31b1",
   "metadata": {},
   "outputs": [],
   "source": [
    "def tvd_counting (df, \n",
    "                  columns_to_select=['Depth(ft)', \n",
    "                 'Svy Inclination (deg)', \n",
    "                 'Svy Azimuth (deg)'], \n",
    "                  md_depth='Depth(ft)', \n",
    "                  inc_svy='Svy Inclination (deg)', \n",
    "                  az_svy='Svy Azimuth (deg)',\n",
    "                  tvd_svy = 'Svy Depth (ft)'):\n",
    "\n",
    "    df.loc[df[az_svy] < 0, az_svy] = 0 \n",
    "    df.loc[df[inc_svy] < 0, inc_svy] = 0 \n",
    "    df.loc[(df[inc_svy] == 90) & (df[md_depth]< 500), inc_svy] = 0\n",
    "    \n",
    "    sorted_df = df.sort_values(by=md_depth, ascending=True)\n",
    "\n",
    "    md = sorted_df[md_depth]\n",
    "    inc = sorted_df[inc_svy]\n",
    "    azi = sorted_df[az_svy]\n",
    "\n",
    "    fname = sorted_df[columns_to_select]\n",
    "\n",
    "    new_column_names = ['md', 'inc', 'azi']\n",
    "    fname.columns = new_column_names\n",
    "\n",
    "    print('Check increasing', fname['md'].is_monotonic_increasing)\n",
    "\n",
    "    fname = fname.drop_duplicates()\n",
    "    fname = fname.sort_values(by='md', ascending=True)\n",
    "    fname = fname.reset_index(drop=True)\n",
    "\n",
    "    md, inc, azi = fname['md'], fname['inc'], fname['azi']  \n",
    "\n",
    "    dev = wp.deviation(\n",
    "        md = md,\n",
    "        inc = inc,\n",
    "        azi = azi\n",
    "    )\n",
    "\n",
    "    pos = dev.minimum_curvature(course_length=30)\n",
    "    tvd = pos.depth\n",
    "    northing = pos.northing\n",
    "    easting = pos.easting\n",
    "    \n",
    "    fname['tvd'] = pos.depth.round(2)\n",
    "\n",
    "    fname = fname.drop(columns=['inc', 'azi'], axis=1)\n",
    "    fname = fname.rename(columns={'md':md_depth})\n",
    "\n",
    "    df_1 = pd.merge(df , fname, on=md_depth, how='left')\n",
    "    \n",
    "    print('NaN checking -', df_1.tvd.isna().sum())\n",
    "\n",
    "    \n",
    "    df_1['tvd'] = df_1['tvd'] + df_1.loc[0, md_depth]\n",
    "    df_1['tvd'] = df_1['tvd'] / df_1[md_depth]\n",
    "    display(df_1[[md_depth, tvd_svy, 'tvd']])\n",
    "    return df_1"
   ]
  },
  {
   "cell_type": "code",
   "execution_count": null,
   "id": "9893e506-2624-4979-bf6e-6629a06569de",
   "metadata": {
    "scrolled": true
   },
   "outputs": [],
   "source": [
    "training_dataset_1 = tvd_counting(training_dataset_1)\n",
    "training_dataset_2 = tvd_counting(training_dataset_2)\n",
    "training_dataset_3 = tvd_counting(training_dataset_3)\n",
    "\n",
    "test_1 = tvd_counting(test_1)\n",
    "test_2 = tvd_counting(test_2)\n",
    "test_3 = tvd_counting(test_3)"
   ]
  },
  {
   "cell_type": "markdown",
   "id": "421c6b22-95c9-4d9d-9f63-e67655bd9c50",
   "metadata": {},
   "source": [
    "# Choose necessary features"
   ]
  },
  {
   "cell_type": "code",
   "execution_count": null,
   "id": "9ce63d0b-01f5-414d-8080-520e21c03d7c",
   "metadata": {},
   "outputs": [],
   "source": [
    "IMPORTANT_FEATURES = ['AD ROP SP (ft/hr)', \n",
    "                        'AD WOB SP (klb)',\n",
    "                        'Annular Velocity (ft/min)',\n",
    "                        'BHA Length (ft)',\n",
    "                        'Bit Size (in)',\n",
    "                        'Bit Time (hr)',\n",
    "                        'Bit Weight (klb)',\n",
    "                        'Bttm Pipe Temp (°F)',\n",
    "                        'Circulating Hrs (hr)',\n",
    "                        'Co. Man G/L (bbl)', \n",
    "                        'Depth(ft)',\n",
    "                        'Diff Press (psi)',\n",
    "                        'DateTime',\n",
    "                        'Flow Deviation (%)', \n",
    "                        'Flow In Rate (galUS/min)', \n",
    "                        'Flow Out Percent (%)',\n",
    "                        'Gain Loss (bbl)',\n",
    "                        'Gain Loss - Spare (bbl)',\n",
    "                        'Hook Load (klb)',\n",
    "                        'ML Mud Temp IN (°F)', \n",
    "                        'ML Mud Temp OUT (°F)', \n",
    "                        'Mud Motor Torque (ft·lbf)', \n",
    "                        'Mud Temp In (°F)', \n",
    "                        'Mud Temp Out (°F)', \n",
    "                        'Mud Volume (bbl)', \n",
    "                        'Pump Pressure (psi)', \n",
    "                        'Pump SPM - Total (SPM)', \n",
    "                        'ROP - Average (ft/hr)', \n",
    "                        'Strks - Total (strokes)', \n",
    "                        'Suction 1 Pit 9 (bbl)', \n",
    "                        'Suction 2 Pit 10 (bbl)', \n",
    "                        'Suction 3 Pit 11 (bbl)', \n",
    "                        'Time On Job (hr)', \n",
    "                        'Total Rotations on DP ()', \n",
    "                        'WC Bit Weight (klb)', \n",
    "                        'Washout Factor ()',\n",
    "                        'tvd']       \n",
    "\n",
    "IMPORTANT_FEATURES_test = IMPORTANT_FEATURES.copy()\n",
    "IMPORTANT_FEATURES_test.remove('Bttm Pipe Temp (°F)')"
   ]
  },
  {
   "cell_type": "code",
   "execution_count": null,
   "id": "b9f742e4-77eb-4762-bb1d-a2a74c6a4790",
   "metadata": {
    "scrolled": true
   },
   "outputs": [],
   "source": [
    "training_dataset_1_important = training_dataset_1[IMPORTANT_FEATURES]\n",
    "training_dataset_2_important = training_dataset_2[IMPORTANT_FEATURES]\n",
    "training_dataset_3_important = training_dataset_3[IMPORTANT_FEATURES]\n",
    "\n",
    "test_1_important = test_1[IMPORTANT_FEATURES_test]\n",
    "test_2_important = test_2[IMPORTANT_FEATURES_test]\n",
    "test_3_important = test_3[IMPORTANT_FEATURES_test]"
   ]
  },
  {
   "cell_type": "markdown",
   "id": "fcf76f4b-a44f-4987-95bf-d555fc3979e7",
   "metadata": {},
   "source": [
    "# EDA before preproc"
   ]
  },
  {
   "cell_type": "code",
   "execution_count": null,
   "id": "5c82c089-f992-4e03-a69b-82ba048b17e2",
   "metadata": {},
   "outputs": [],
   "source": [
    "def EDA(df, constant_name):\n",
    "    for i in df.columns:\n",
    "        plt.figure(figsize=(3,3))\n",
    "        sns.scatterplot(data=df, x=df[i], y=df[constant_name], alpha=0.2)\n",
    "        plt.title(f'{i}')\n",
    "        plt.show()"
   ]
  },
  {
   "cell_type": "markdown",
   "id": "1835f42c-235b-47cf-b564-cb68a2e6f1ed",
   "metadata": {},
   "source": [
    "## Train"
   ]
  },
  {
   "cell_type": "markdown",
   "id": "4f8edeb2-813c-4d1d-b56f-3d6c550d8aa5",
   "metadata": {},
   "source": [
    "### First df"
   ]
  },
  {
   "cell_type": "code",
   "execution_count": null,
   "id": "6955c073-c5d7-492b-92b9-34c1077d0002",
   "metadata": {
    "scrolled": true
   },
   "outputs": [],
   "source": [
    "EDA(training_dataset_1_important, 'Bttm Pipe Temp (°F)')"
   ]
  },
  {
   "cell_type": "markdown",
   "id": "ee0970db-39b4-493f-83d4-f4b1655d3ee3",
   "metadata": {},
   "source": [
    "### Second df"
   ]
  },
  {
   "cell_type": "code",
   "execution_count": null,
   "id": "dd8ad4c5-d6c5-4a46-865c-0b26f32f26a2",
   "metadata": {
    "scrolled": true
   },
   "outputs": [],
   "source": [
    "EDA(training_dataset_2_important, 'Bttm Pipe Temp (°F)')"
   ]
  },
  {
   "cell_type": "markdown",
   "id": "316cb410-7ba4-4a9e-872c-c698cb8b105b",
   "metadata": {},
   "source": [
    "### Third df"
   ]
  },
  {
   "cell_type": "code",
   "execution_count": null,
   "id": "b8b6d132-f078-4cf4-8c6a-51f20a5c43ca",
   "metadata": {
    "scrolled": true
   },
   "outputs": [],
   "source": [
    "EDA(training_dataset_3_important, 'Bttm Pipe Temp (°F)')"
   ]
  },
  {
   "cell_type": "markdown",
   "id": "0077f599-b031-40aa-b9c6-7b2f3f42eaf7",
   "metadata": {},
   "source": [
    "## Test"
   ]
  },
  {
   "cell_type": "markdown",
   "id": "ab20c156-eca7-43b7-8c23-121ada287cfb",
   "metadata": {},
   "source": [
    "### First test df"
   ]
  },
  {
   "cell_type": "code",
   "execution_count": null,
   "id": "5908cf2e-a632-4adc-8ebb-56d171285f4f",
   "metadata": {
    "scrolled": true
   },
   "outputs": [],
   "source": [
    "EDA(test_1_important, 'Depth(ft)')"
   ]
  },
  {
   "cell_type": "markdown",
   "id": "98932d00-3256-4e60-af20-248ff2e8ec98",
   "metadata": {},
   "source": [
    "### Second test df"
   ]
  },
  {
   "cell_type": "code",
   "execution_count": null,
   "id": "c5a5edd3-b64b-49a8-b9a4-c9402626a60a",
   "metadata": {
    "scrolled": true
   },
   "outputs": [],
   "source": [
    "EDA(test_2_important, 'Depth(ft)')"
   ]
  },
  {
   "cell_type": "markdown",
   "id": "e427fe5d-ef71-4dc6-84d1-41f555b8c7bc",
   "metadata": {},
   "source": [
    "### Third test df"
   ]
  },
  {
   "cell_type": "code",
   "execution_count": null,
   "id": "f4b0a281-c30e-424b-bb40-9d5933101807",
   "metadata": {
    "scrolled": true
   },
   "outputs": [],
   "source": [
    "EDA(test_3_important, 'Depth(ft)')"
   ]
  },
  {
   "cell_type": "markdown",
   "id": "c90fed41-8722-4bf4-a0d2-b3dc60260fde",
   "metadata": {},
   "source": [
    "# Data preproc"
   ]
  },
  {
   "cell_type": "code",
   "execution_count": null,
   "id": "5d8734d5-beb2-4a72-935f-30952f4e9f59",
   "metadata": {},
   "outputs": [],
   "source": [
    "datasets = [\n",
    "    \"training_dataset_1_important\",\n",
    "    \"training_dataset_2_important\",\n",
    "    \"training_dataset_3_important\",\n",
    "    \"test_1_important\",\n",
    "    \"test_2_important\",\n",
    "    \"test_3_important\",\n",
    "]"
   ]
  },
  {
   "cell_type": "markdown",
   "id": "e9900afc-4222-4044-912b-5c10df787d6c",
   "metadata": {},
   "source": [
    "## Train temp outliers check "
   ]
  },
  {
   "cell_type": "markdown",
   "id": "4b14c616-ce71-4e83-ba07-06d05a673ccf",
   "metadata": {},
   "source": [
    "### First df"
   ]
  },
  {
   "cell_type": "code",
   "execution_count": null,
   "id": "9b8e9bf3-ef7f-4b0a-8b97-4949b46746ad",
   "metadata": {},
   "outputs": [],
   "source": [
    "px.line(training_dataset_1_important['Bttm Pipe Temp (°F)'])"
   ]
  },
  {
   "cell_type": "code",
   "execution_count": null,
   "id": "804aff6c-494d-43d8-9eb3-b13c0f167285",
   "metadata": {},
   "outputs": [],
   "source": [
    "training_dataset_1_important.loc[(training_dataset_1_important['Bttm Pipe Temp (°F)'] > 200) & (training_dataset_1_important.index > 6000), 'Bttm Pipe Temp (°F)'] = np.nan\n",
    "training_dataset_1_important.loc[(training_dataset_1_important['Bttm Pipe Temp (°F)'] > 150) & (training_dataset_1_important.index < 2000), 'Bttm Pipe Temp (°F)'] = np.nan\n",
    "training_dataset_1_important.loc[:, 'Bttm Pipe Temp (°F)'] = training_dataset_1_important['Bttm Pipe Temp (°F)'].ffill()"
   ]
  },
  {
   "cell_type": "code",
   "execution_count": null,
   "id": "a42c5bc8-c77e-45e9-89f6-50ad1b73c567",
   "metadata": {},
   "outputs": [],
   "source": [
    "px.line(training_dataset_1_important['Bttm Pipe Temp (°F)'])"
   ]
  },
  {
   "cell_type": "markdown",
   "id": "9f15f68e-a364-41c3-a338-cd5449f09d15",
   "metadata": {},
   "source": [
    "### Second df"
   ]
  },
  {
   "cell_type": "code",
   "execution_count": null,
   "id": "7481a3e3-d826-4af6-903b-67431e6d23cc",
   "metadata": {},
   "outputs": [],
   "source": [
    "px.line(training_dataset_2_important, x=training_dataset_2_important.index, y=['Bit Size (in)','Bttm Pipe Temp (°F)'])"
   ]
  },
  {
   "cell_type": "code",
   "execution_count": null,
   "id": "be15c758-e571-4f9f-9d8a-2f5a224751f3",
   "metadata": {},
   "outputs": [],
   "source": [
    "training_dataset_2_important.loc[(training_dataset_2_important.index<1500) &\n",
    "                                ((training_dataset_2_important['Bttm Pipe Temp (°F)']>140) | \n",
    "                                 (training_dataset_2_important['Bttm Pipe Temp (°F)']<50)), 'Bttm Pipe Temp (°F)'] = np.nan\n",
    "\n",
    "training_dataset_2_important.loc[(training_dataset_2_important.index<200) &\n",
    "                                (training_dataset_2_important['Bttm Pipe Temp (°F)']>90), 'Bttm Pipe Temp (°F)'] = np.nan\n",
    "\n",
    "training_dataset_2_important.loc[:, 'Bttm Pipe Temp (°F)'] = training_dataset_2_important.loc[:, 'Bttm Pipe Temp (°F)'].bfill()"
   ]
  },
  {
   "cell_type": "code",
   "execution_count": null,
   "id": "8b057e3d-dda9-4bb3-bae6-894cde35e430",
   "metadata": {},
   "outputs": [],
   "source": [
    "px.line(training_dataset_2_important, x=training_dataset_2_important.index, y=['Bit Size (in)','Bttm Pipe Temp (°F)'])"
   ]
  },
  {
   "cell_type": "markdown",
   "id": "7223dc5f-4f4a-4cbc-88d2-a506b9b66eee",
   "metadata": {},
   "source": [
    "### Third df"
   ]
  },
  {
   "cell_type": "markdown",
   "id": "6c0a50ea-ad60-48b3-9f2f-915ac174e7b3",
   "metadata": {},
   "source": [
    "There is no outliers."
   ]
  },
  {
   "cell_type": "markdown",
   "id": "0daf9196-2a92-47c4-a567-711a1fddb5c0",
   "metadata": {},
   "source": [
    "## Annular Velocity (ft/min)  outliers check "
   ]
  },
  {
   "cell_type": "code",
   "execution_count": null,
   "id": "b4d42c85-a397-4d38-b3a9-eb07c1c45daa",
   "metadata": {},
   "outputs": [],
   "source": [
    "ANNULAR_VELOCITY = 0"
   ]
  },
  {
   "cell_type": "code",
   "execution_count": null,
   "id": "ab5ba92e-bcc4-4b2d-9746-e6cedcbdb50f",
   "metadata": {},
   "outputs": [],
   "source": [
    "def annular_velocity_correctin(df, value = 0):\n",
    "    df.loc[df['Annular Velocity (ft/min)'] <= value, 'Annular Velocity (ft/min)'] = np.nan\n",
    "    df.loc[:, 'Annular Velocity (ft/min)'] = df.loc[:, 'Annular Velocity (ft/min)'].bfill()\n",
    "    return df"
   ]
  },
  {
   "cell_type": "code",
   "execution_count": null,
   "id": "1a820e04-0808-41e4-9448-7ed6ccc9d141",
   "metadata": {},
   "outputs": [],
   "source": [
    "for name in datasets:\n",
    "    globals()[name] = annular_velocity_correctin(globals()[name])"
   ]
  },
  {
   "cell_type": "markdown",
   "id": "9dd0aa36-b609-4f62-9bc5-95155c40c58a",
   "metadata": {},
   "source": [
    "## Bit weight"
   ]
  },
  {
   "cell_type": "code",
   "execution_count": null,
   "id": "590089cb-3894-4c7e-866d-490a4f89f293",
   "metadata": {},
   "outputs": [],
   "source": [
    "training_dataset_2_important.loc[training_dataset_2_important['Bit Weight (klb)'] > 100, 'Bit Weight (klb)'] = np.nan\n",
    "training_dataset_2_important.loc[:, 'Bit Weight (klb)'] = training_dataset_2_important['Bit Weight (klb)'].ffill().bfill()"
   ]
  },
  {
   "cell_type": "markdown",
   "id": "88a0d51d-0748-4b43-882f-9fc1b73dae24",
   "metadata": {},
   "source": [
    "## Co. Man G/L (bbl)"
   ]
  },
  {
   "cell_type": "code",
   "execution_count": null,
   "id": "4a964f7e-4c3b-43cc-b688-2f9ee128264e",
   "metadata": {},
   "outputs": [],
   "source": [
    "def g_l_function(df):\n",
    "    df.loc[df['Co. Man G/L (bbl)'] > 0, 'Co. Man G/L (bbl)'] = 0 \n",
    "    df.loc[df['Co. Man G/L (bbl)'] < 0, 'Co. Man G/L (bbl)'] = 1 \n",
    "    return df"
   ]
  },
  {
   "cell_type": "code",
   "execution_count": null,
   "id": "b1734f25-b598-4bf5-bd53-ab62982b5351",
   "metadata": {},
   "outputs": [],
   "source": [
    "for name in datasets:\n",
    "    globals()[name] = g_l_function(globals()[name])"
   ]
  },
  {
   "cell_type": "markdown",
   "id": "4431f2e0-8d60-41a4-b6ef-dab0d80179e7",
   "metadata": {},
   "source": [
    "## Gain Loss (bbl)  outliers check "
   ]
  },
  {
   "cell_type": "code",
   "execution_count": null,
   "id": "531d2585-4a44-400a-b9e9-a67aa801d8ed",
   "metadata": {},
   "outputs": [],
   "source": [
    "training_dataset_1_important.loc[training_dataset_1_important['Gain Loss (bbl)'] > 200, 'Gain Loss (bbl)'] = 0"
   ]
  },
  {
   "cell_type": "markdown",
   "id": "0fedf444-7dc9-49b3-8834-94b945f9c9f6",
   "metadata": {},
   "source": [
    "## Mud temp in|out"
   ]
  },
  {
   "cell_type": "markdown",
   "id": "18417564-922e-4ccb-b441-28309e5b44a3",
   "metadata": {},
   "source": [
    "### first train df"
   ]
  },
  {
   "cell_type": "code",
   "execution_count": null,
   "id": "5d1faba1-b3a9-450e-ac3b-5526092a631d",
   "metadata": {},
   "outputs": [],
   "source": [
    "px.line(training_dataset_1_important['ML Mud Temp IN (°F)'])"
   ]
  },
  {
   "cell_type": "code",
   "execution_count": null,
   "id": "e6e2b7c3-84bb-43bb-a36a-c992ba38fa28",
   "metadata": {},
   "outputs": [],
   "source": [
    "training_dataset_1_important.loc[((training_dataset_1_important['ML Mud Temp IN (°F)'] < 60) |\n",
    "                                 (training_dataset_1_important['ML Mud Temp IN (°F)'] > 80)) &\n",
    "                                 (training_dataset_1_important.index < 100), 'ML Mud Temp IN (°F)'] = np.nan\n",
    "training_dataset_1_important.loc[:, 'ML Mud Temp IN (°F)'] = training_dataset_1_important.loc[:, 'ML Mud Temp IN (°F)'].bfill()"
   ]
  },
  {
   "cell_type": "code",
   "execution_count": null,
   "id": "61e7eb65-f026-45b9-9746-9877d8dd1619",
   "metadata": {},
   "outputs": [],
   "source": [
    "px.line(training_dataset_1_important['ML Mud Temp OUT (°F)'])"
   ]
  },
  {
   "cell_type": "code",
   "execution_count": null,
   "id": "f3523b9c-2ef5-4e01-a791-a9c5daede6c9",
   "metadata": {},
   "outputs": [],
   "source": [
    "training_dataset_1_important.loc[training_dataset_1_important['ML Mud Temp OUT (°F)'] > 500, 'ML Mud Temp OUT (°F)'] = np.nan\n",
    "training_dataset_1_important.loc[:, 'ML Mud Temp OUT (°F)'] = training_dataset_1_important.loc[:, 'ML Mud Temp OUT (°F)'].bfill()"
   ]
  },
  {
   "cell_type": "markdown",
   "id": "f2251195-2278-4fb5-a4f1-5affea0febde",
   "metadata": {},
   "source": [
    "### third train df"
   ]
  },
  {
   "cell_type": "code",
   "execution_count": null,
   "id": "bc20cf6e-c517-4f44-ba0a-6614984a0b8a",
   "metadata": {},
   "outputs": [],
   "source": [
    "training_dataset_3_important.loc[training_dataset_3_important['ML Mud Temp OUT (°F)'] > 500, 'ML Mud Temp OUT (°F)'] = np.nan\n",
    "training_dataset_3_important.loc[:, 'ML Mud Temp OUT (°F)'] = training_dataset_3_important.loc[:, 'ML Mud Temp OUT (°F)'].bfill()"
   ]
  },
  {
   "cell_type": "markdown",
   "id": "cb86f7fb-cfcc-475e-9f65-f0cadf05f0c6",
   "metadata": {},
   "source": [
    "### first test df"
   ]
  },
  {
   "cell_type": "code",
   "execution_count": null,
   "id": "13214c10-4400-450c-806c-b30129e33a54",
   "metadata": {},
   "outputs": [],
   "source": [
    "test_1_important.loc[test_1_important['Mud Temp In (°F)'] < 0, 'Mud Temp In (°F)'] = np.nan\n",
    "test_1_important.loc[:, 'Mud Temp In (°F)'] = test_1_important.loc[:, 'Mud Temp In (°F)'].bfill()"
   ]
  },
  {
   "cell_type": "markdown",
   "id": "f44cf896-8551-4ca5-8ebe-ec043e0ea990",
   "metadata": {},
   "source": [
    "### Third test df"
   ]
  },
  {
   "cell_type": "code",
   "execution_count": null,
   "id": "f79a85aa-47e7-40ce-b753-ca12b65973bc",
   "metadata": {},
   "outputs": [],
   "source": [
    "test_3_important.loc[test_3_important['Mud Temp In (°F)'] < 0, 'Mud Temp In (°F)'] = np.nan\n",
    "test_3_important.loc[:, 'Mud Temp In (°F)'] = test_3_important.loc[:, 'Mud Temp In (°F)'].bfill()"
   ]
  },
  {
   "cell_type": "markdown",
   "id": "d1089dcf-6c16-4f3a-9a19-521da4aed00a",
   "metadata": {},
   "source": [
    "## Mud gradient count"
   ]
  },
  {
   "cell_type": "code",
   "execution_count": null,
   "id": "7224fb04-5d66-4472-a4ee-0859ea4f8b18",
   "metadata": {},
   "outputs": [],
   "source": [
    "def temp_preproc(df, lower_thresh = 0, upper_thresh = 100):\n",
    "    df = df.copy()\n",
    "    df.loc[:, 'ML_mud_temp_grad'] = -df['ML Mud Temp IN (°F)'] + df['ML Mud Temp OUT (°F)']\n",
    "    df.loc[:, 'Mud_temp_grad'] = -df['Mud Temp In (°F)'] + df['Mud Temp Out (°F)']\n",
    "    \n",
    "    df.loc[(df['ML_mud_temp_grad'] < lower_thresh) | (df['Mud_temp_grad'] > upper_thresh), 'ML_mud_temp_grad'] = np.nan\n",
    "    df.loc[:, 'ML_mud_temp_grad'] = df.loc[:, 'ML_mud_temp_grad'].bfill().ffill()\n",
    "\n",
    "    df.loc[(df['Mud_temp_grad'] < lower_thresh) | (df['Mud_temp_grad'] > upper_thresh), 'Mud_temp_grad'] = np.nan\n",
    "    df.loc[:, 'Mud_temp_grad'] = df.loc[:, 'Mud_temp_grad'].bfill().ffill()\n",
    "    \n",
    "    return df"
   ]
  },
  {
   "cell_type": "code",
   "execution_count": null,
   "id": "994c15a2-4b90-4689-8420-6904746a8481",
   "metadata": {},
   "outputs": [],
   "source": [
    "for name in datasets:\n",
    "    globals()[name] = temp_preproc(globals()[name])"
   ]
  },
  {
   "cell_type": "markdown",
   "id": "bf77c13d-4591-47f5-8e34-c846c65c6fc6",
   "metadata": {},
   "source": [
    "## Washout Factor () "
   ]
  },
  {
   "cell_type": "code",
   "execution_count": null,
   "id": "159863e5-6fec-4363-9f94-9a50fb574f07",
   "metadata": {},
   "outputs": [],
   "source": [
    "def washout_factor_count(df):\n",
    "    df = df.copy()\n",
    "    df.loc[df['Washout Factor ()'] <= 0, 'Washout Factor ()'] = np.nan\n",
    "    df.loc[:, 'Washout Factor ()'] = df.loc[:, 'Washout Factor ()'].bfill()\n",
    "    return df"
   ]
  },
  {
   "cell_type": "code",
   "execution_count": null,
   "id": "d7c8ee45-354b-4d94-a36c-6efc9c757a84",
   "metadata": {},
   "outputs": [],
   "source": [
    "for name in datasets:\n",
    "    globals()[name] = washout_factor_count(globals()[name])"
   ]
  },
  {
   "cell_type": "markdown",
   "id": "e87c1aa9-565c-4b7a-825e-e87bf4702f21",
   "metadata": {},
   "source": [
    "## Flow In Rate (galUS/min)"
   ]
  },
  {
   "cell_type": "code",
   "execution_count": null,
   "id": "fdacf9f2-1f73-48a3-bf13-67e228b1e0e5",
   "metadata": {},
   "outputs": [],
   "source": [
    "def flow_in_rate_count(df, value = 10):\n",
    "    df = df.copy()\n",
    "    df.loc[df['Flow In Rate (galUS/min)'] <= value, 'Flow In Rate (galUS/min)'] = np.nan\n",
    "    df.loc[:, 'Flow In Rate (galUS/min)'] = df.loc[:, 'Flow In Rate (galUS/min)'].bfill()\n",
    "    return df"
   ]
  },
  {
   "cell_type": "code",
   "execution_count": null,
   "id": "e197911e-705c-4af3-8d04-ec872d885f0c",
   "metadata": {},
   "outputs": [],
   "source": [
    "for name in datasets:\n",
    "    globals()[name] = flow_in_rate_count(globals()[name])"
   ]
  },
  {
   "cell_type": "markdown",
   "id": "01263695-fb96-499a-bdd2-6a20e541a31b",
   "metadata": {},
   "source": [
    "## ROP avarage correction"
   ]
  },
  {
   "cell_type": "code",
   "execution_count": null,
   "id": "65ff598d-99fb-4e10-aa8d-1530fa5a6ffa",
   "metadata": {},
   "outputs": [],
   "source": [
    "def ROP_correction(df, value = 800):\n",
    "    df = df.copy()\n",
    "    df.loc[df['ROP - Average (ft/hr)'] > value, 'ROP - Average (ft/hr)'] = np.nan\n",
    "    df.loc[:, 'ROP - Average (ft/hr)'] = df.loc[:, 'ROP - Average (ft/hr)'].bfill()\n",
    "    return df"
   ]
  },
  {
   "cell_type": "code",
   "execution_count": null,
   "id": "9a69893f-11db-48c2-8f92-d3bc8ab4155f",
   "metadata": {},
   "outputs": [],
   "source": [
    "for name in datasets:\n",
    "    globals()[name] = ROP_correction(globals()[name])"
   ]
  },
  {
   "cell_type": "markdown",
   "id": "9b34adba-5b1d-4ce1-8afd-3d51b1c34a6b",
   "metadata": {},
   "source": [
    "## Dif press"
   ]
  },
  {
   "cell_type": "code",
   "execution_count": null,
   "id": "ef032126-ebce-4ed3-8abc-10f3af1c28b9",
   "metadata": {},
   "outputs": [],
   "source": [
    "def dif_press_correction(df, value = -600):\n",
    "    df = df.copy()\n",
    "    df.loc[df['Diff Press (psi)'] < value, 'Diff Press (psi)'] = np.nan\n",
    "    df.loc[:, 'Diff Press (psi)'] = df.loc[:, 'Diff Press (psi)'].bfill()\n",
    "    return df"
   ]
  },
  {
   "cell_type": "code",
   "execution_count": null,
   "id": "c47506fb-510a-4555-8e33-7e8b653615c7",
   "metadata": {},
   "outputs": [],
   "source": [
    "for name in datasets:\n",
    "    globals()[name] = dif_press_correction(globals()[name])"
   ]
  },
  {
   "cell_type": "markdown",
   "id": "60403b6a-b6e8-49c3-a036-fb071ca25aee",
   "metadata": {},
   "source": [
    "# EDA after preproc"
   ]
  },
  {
   "cell_type": "markdown",
   "id": "416c22ca-aa79-4812-8261-dd58eb6d1fe4",
   "metadata": {},
   "source": [
    "## First train df"
   ]
  },
  {
   "cell_type": "code",
   "execution_count": null,
   "id": "e82ed39a-185b-4f5a-8d37-003524d5c87a",
   "metadata": {
    "scrolled": true
   },
   "outputs": [],
   "source": [
    "EDA(training_dataset_1_important, 'Bttm Pipe Temp (°F)')"
   ]
  },
  {
   "cell_type": "markdown",
   "id": "55649cd1-3246-491f-943b-8fbbf25c5ca0",
   "metadata": {},
   "source": [
    "## Second train df"
   ]
  },
  {
   "cell_type": "code",
   "execution_count": null,
   "id": "8f639676-3906-4aab-ac04-50a6e2aa793a",
   "metadata": {
    "scrolled": true
   },
   "outputs": [],
   "source": [
    "EDA(training_dataset_2_important, 'Bttm Pipe Temp (°F)')"
   ]
  },
  {
   "cell_type": "markdown",
   "id": "b9f75eb2-e150-49a7-9570-cead2528b694",
   "metadata": {},
   "source": [
    "## Third train df"
   ]
  },
  {
   "cell_type": "code",
   "execution_count": null,
   "id": "98dffe56-3f87-45b9-93c1-c4734865e21d",
   "metadata": {
    "scrolled": true
   },
   "outputs": [],
   "source": [
    "EDA(training_dataset_3_important, 'Bttm Pipe Temp (°F)')"
   ]
  },
  {
   "cell_type": "markdown",
   "id": "7f7958b5-51db-4253-9c07-4fbdab040d1b",
   "metadata": {},
   "source": [
    "## First test df"
   ]
  },
  {
   "cell_type": "code",
   "execution_count": null,
   "id": "6b9cb1bd-188f-431e-966e-a1958d3f806a",
   "metadata": {
    "scrolled": true
   },
   "outputs": [],
   "source": [
    "EDA(test_1_important, 'Depth(ft)')"
   ]
  },
  {
   "cell_type": "markdown",
   "id": "75aad552-e13a-4ed4-a6ad-3a90e40d26c2",
   "metadata": {},
   "source": [
    "## Second test df"
   ]
  },
  {
   "cell_type": "code",
   "execution_count": null,
   "id": "e8ee7702-8942-4700-b8ca-96d7c0deba75",
   "metadata": {
    "scrolled": true
   },
   "outputs": [],
   "source": [
    "EDA(test_2_important, 'Depth(ft)')"
   ]
  },
  {
   "cell_type": "markdown",
   "id": "88f915ed-0dbb-4335-8139-e0551b212ea4",
   "metadata": {},
   "source": [
    "## Third test df"
   ]
  },
  {
   "cell_type": "code",
   "execution_count": null,
   "id": "33e7b2dd-4892-43c4-9632-5977edf90813",
   "metadata": {
    "scrolled": true
   },
   "outputs": [],
   "source": [
    "EDA(test_3_important, 'Depth(ft)')"
   ]
  },
  {
   "cell_type": "markdown",
   "id": "14f4e891-06d3-43ff-ae63-e4d6eda72df2",
   "metadata": {},
   "source": [
    "# Delete useless data"
   ]
  },
  {
   "cell_type": "code",
   "execution_count": null,
   "id": "34c427b7-ba40-438f-9e29-313fbd7da93f",
   "metadata": {},
   "outputs": [],
   "source": [
    "USELESS_COLUMNS = ['AD WOB SP (klb)',\n",
    "                    'BHA Length (ft)',\n",
    "                    'DateTime', \n",
    "                    'Flow Deviation (%)', \n",
    "                    'Flow Out Percent (%)',\n",
    "                    'Gain Loss (bbl)',\n",
    "                    'Gain Loss - Spare (bbl)',\n",
    "                    'Hook Load (klb)',\n",
    "                    'ML Mud Temp IN (°F)', \n",
    "                    'ML Mud Temp OUT (°F)', \n",
    "                    'Mud Motor Torque (ft·lbf)', \n",
    "                    'Mud Temp In (°F)', \n",
    "                    'Mud Temp Out (°F)', \n",
    "                    'Pump SPM - Total (SPM)', \n",
    "                    'Strks - Total (strokes)', \n",
    "                    'Suction 1 Pit 9 (bbl)', \n",
    "                    'Suction 2 Pit 10 (bbl)', \n",
    "                    'Suction 3 Pit 11 (bbl)', \n",
    "                    'Time On Job (hr)', \n",
    "                    'Total Rotations on DP ()'] "
   ]
  },
  {
   "cell_type": "code",
   "execution_count": null,
   "id": "74820031-082c-4806-9035-3a05d5ed5c21",
   "metadata": {},
   "outputs": [],
   "source": [
    "training_dataset_1_important = training_dataset_1_important.drop(columns=USELESS_COLUMNS, axis=1)\n",
    "training_dataset_2_important = training_dataset_2_important.drop(columns=USELESS_COLUMNS, axis=1)\n",
    "training_dataset_3_important = training_dataset_3_important.drop(columns=USELESS_COLUMNS, axis=1)\n",
    "\n",
    "test_1_important = test_1_important.drop(columns=USELESS_COLUMNS, axis=1)\n",
    "test_2_important = test_2_important.drop(columns=USELESS_COLUMNS, axis=1)\n",
    "test_3_important = test_3_important.drop(columns=USELESS_COLUMNS, axis=1)"
   ]
  },
  {
   "cell_type": "markdown",
   "id": "12540f55-973f-4415-8ef4-760d1225d24b",
   "metadata": {},
   "source": [
    "# Final exploration"
   ]
  },
  {
   "cell_type": "markdown",
   "id": "0f809951-1b5b-4b5d-a06d-d0aad4980545",
   "metadata": {},
   "source": [
    "## Circulating exp"
   ]
  },
  {
   "cell_type": "code",
   "execution_count": null,
   "id": "11113770-9051-4559-b0e3-abd9b0813b1f",
   "metadata": {},
   "outputs": [],
   "source": [
    "def Circulating_exploration(df, df1):\n",
    "    sns.lineplot(data=df, x='Depth(ft)', y='Circulating Hrs (hr)')\n",
    "    sns.lineplot(data=df1, x='Depth(ft)', y='Circulating Hrs (hr)')\n",
    "    plt.show()"
   ]
  },
  {
   "cell_type": "code",
   "execution_count": null,
   "id": "0868667a-89e5-45b8-9a24-5a6b04a59711",
   "metadata": {},
   "outputs": [],
   "source": [
    "Circulating_exploration(training_dataset_1_important, test_1_important)\n",
    "Circulating_exploration(training_dataset_2_important, test_2_important)\n",
    "Circulating_exploration(training_dataset_3_important, test_3_important)"
   ]
  },
  {
   "cell_type": "markdown",
   "id": "f169d6ed-be8a-4916-9ff7-5f6fabca1c77",
   "metadata": {},
   "source": [
    "In second df, we prolong time circulating"
   ]
  },
  {
   "cell_type": "code",
   "execution_count": null,
   "id": "416d3ac8-4a77-4b79-9533-4873558e018a",
   "metadata": {},
   "outputs": [],
   "source": [
    "prolong_value = max(training_dataset_2_important['Circulating Hrs (hr)'])\n",
    "display(prolong_value)"
   ]
  },
  {
   "cell_type": "code",
   "execution_count": null,
   "id": "e3041720-70ca-495b-af2a-0e8e31a65f32",
   "metadata": {},
   "outputs": [],
   "source": [
    "cirk_condition = (training_dataset_2_important['Circulating Hrs (hr)'] <100) & (training_dataset_2_important['Depth(ft)'] > 6000)\n",
    "training_dataset_2_important.loc[cirk_condition, 'Circulating Hrs (hr)'] = training_dataset_2_important.loc[cirk_condition, 'Circulating Hrs (hr)'] + prolong_value\n",
    "\n",
    "test_2_important.loc[:, 'Circulating Hrs (hr)'] = test_2_important.loc[:, 'Circulating Hrs (hr)'] + prolong_value"
   ]
  },
  {
   "cell_type": "code",
   "execution_count": null,
   "id": "d477d0e1-f6c0-4174-bd58-1a0fc6146c99",
   "metadata": {},
   "outputs": [],
   "source": [
    "Circulating_exploration(training_dataset_2_important, test_2_important)"
   ]
  },
  {
   "cell_type": "markdown",
   "id": "e77a3b8d-ac3a-4852-9a0a-d0f1a8727ebd",
   "metadata": {},
   "source": [
    "## Final all data exploration"
   ]
  },
  {
   "cell_type": "code",
   "execution_count": null,
   "id": "2eb8b6d5-9e2e-48f9-ad54-592420c37679",
   "metadata": {},
   "outputs": [],
   "source": [
    "for df in datasets:\n",
    "    melted_df = globals()[df].melt()\n",
    "    fig = px.box(melted_df, x='variable', y=\"value\")\n",
    "    fig.show()"
   ]
  },
  {
   "cell_type": "markdown",
   "id": "5fde150c-d1cb-43ea-bdce-f8104849628f",
   "metadata": {},
   "source": [
    "# Correlation analysis"
   ]
  },
  {
   "cell_type": "code",
   "execution_count": null,
   "id": "36ea9288-7073-4ad8-bfe8-27ad43188d44",
   "metadata": {},
   "outputs": [],
   "source": [
    "def correlation (x, num_cols):\n",
    "  \n",
    "    display('Correlation matrix  - phik Matrix')\n",
    "    \n",
    "    plt.figure (figsize = (14,14))\n",
    "    sns.heatmap (x.phik_matrix(interval_cols = num_cols), annot = True, cmap = 'cividis')\n",
    "    plt.show()\n",
    "    "
   ]
  },
  {
   "cell_type": "markdown",
   "id": "a598030f-be43-4ea7-aa35-c61c9c384522",
   "metadata": {},
   "source": [
    "# Unification all train ds"
   ]
  },
  {
   "cell_type": "markdown",
   "id": "2487f404-e5e1-4aa8-8cfa-f0139a7bb437",
   "metadata": {},
   "source": [
    "Т.к. мы объединяем данные есть смысл провести корреляционный анализ после объединения всех трейновых данных "
   ]
  },
  {
   "cell_type": "markdown",
   "id": "df1aedac-f3f1-4a3d-af3d-f77b39946c1e",
   "metadata": {},
   "source": [
    "Объясняем, что для каждого датасета берем как тестовую выборку до -500 "
   ]
  },
  {
   "cell_type": "code",
   "execution_count": null,
   "id": "7bb1b0ba-60c2-4907-a3c9-dd15250fa431",
   "metadata": {},
   "outputs": [],
   "source": [
    "all_train_df = pd.concat([training_dataset_1_important, training_dataset_2_important, training_dataset_3_important], axis=0).reset_index(drop=True)\n",
    "\n",
    "cut_value = 500\n",
    "\n",
    "cut_1 = len(training_dataset_1_important) - cut_value\n",
    "cut_2 = len(training_dataset_2_important) - cut_value\n",
    "cut_3 = len(training_dataset_3_important) - cut_value\n",
    "\n",
    "\n",
    "cut_train_data = pd.concat([training_dataset_1_important[training_dataset_1_important.index<cut_1], \n",
    "                        training_dataset_2_important[training_dataset_2_important.index<cut_2], \n",
    "                        training_dataset_3_important[training_dataset_3_important.index<cut_3]], axis=0).reset_index(drop=True)\n",
    "\n",
    "#creatind 3 test df\n",
    "\n",
    "cut_test_1 = training_dataset_1_important[training_dataset_1_important.index>=cut_1]\n",
    "cut_test_2 = training_dataset_2_important[training_dataset_2_important.index>=cut_2]\n",
    "cut_test_3 = training_dataset_3_important[training_dataset_3_important.index>=cut_3]"
   ]
  },
  {
   "cell_type": "code",
   "execution_count": null,
   "id": "ae1c6cf3-f95c-4bcd-b4e9-3ef3ca673fee",
   "metadata": {},
   "outputs": [],
   "source": [
    "correlation(cut_train_data, cut_train_data.columns)"
   ]
  },
  {
   "cell_type": "markdown",
   "id": "c6d7bec9-afe1-4a2c-8574-3ebf4cad25af",
   "metadata": {},
   "source": [
    "**There is no Multicollinearity**"
   ]
  },
  {
   "cell_type": "markdown",
   "id": "4ac140e4-6c95-44c3-b4c6-fdd530267375",
   "metadata": {},
   "source": [
    "# Using ML, pipeline, "
   ]
  },
  {
   "cell_type": "code",
   "execution_count": null,
   "id": "250daeee-501d-4e13-9881-6b636666f70a",
   "metadata": {},
   "outputs": [],
   "source": [
    "def X_y(df, name_y = 'Bttm Pipe Temp (°F)'):\n",
    "    X = df.drop(columns=name_y, axis=1)\n",
    "    y = df[name_y]\n",
    "    return X, y"
   ]
  },
  {
   "cell_type": "code",
   "execution_count": null,
   "id": "802b9e6d-ed27-453e-ae51-2546279efd9a",
   "metadata": {},
   "outputs": [],
   "source": [
    "X_train, y_train = X_y(cut_train_data)\n",
    "\n",
    "X_test_1, y_test_1 = X_y(cut_test_1)\n",
    "X_test_2, y_test_2 = X_y(cut_test_2)\n",
    "X_test_3, y_test_3 = X_y(cut_test_3)"
   ]
  },
  {
   "cell_type": "code",
   "execution_count": null,
   "id": "03e7478c-5f3e-4181-958d-4b5973a3e31b",
   "metadata": {},
   "outputs": [],
   "source": [
    "ord_columns = ['Co. Man G/L (bbl)']\n",
    "num_columns = list(X_train.columns)\n",
    "num_columns.remove('Co. Man G/L (bbl)')"
   ]
  },
  {
   "cell_type": "code",
   "execution_count": null,
   "id": "120a1266-9661-46c5-baa0-12bcf0f5d18b",
   "metadata": {},
   "outputs": [],
   "source": [
    "RANDOM_STATE =4242"
   ]
  },
  {
   "cell_type": "code",
   "execution_count": null,
   "id": "581d6b1c-e927-40dd-9a98-c68ff41892c4",
   "metadata": {},
   "outputs": [],
   "source": [
    "data_preprocessor = ColumnTransformer (\n",
    "    [\n",
    "        ('num', StandardScaler(), num_columns),\n",
    "        ('ord', 'passthrough', ord_columns)\n",
    "    ],\n",
    "    remainder='passthrough'\n",
    ")\n",
    "\n",
    "pipeline = Pipeline ([\n",
    "    ('preprocessor', data_preprocessor),\n",
    "    ('model', RandomForestRegressor(random_state=RANDOM_STATE))  \n",
    "])"
   ]
  },
  {
   "cell_type": "code",
   "execution_count": null,
   "id": "bc89af19-97f5-46a5-9885-a6b420db7bd4",
   "metadata": {},
   "outputs": [],
   "source": [
    "param_grid_random_forest = [\n",
    "        {\n",
    "    'model': [RandomForestRegressor(random_state=RANDOM_STATE)],\n",
    "    'model__n_estimators': [50, 100, 200, 300]\n",
    "    }\n",
    "    ]\n",
    "\n",
    "param_grid_LGBM = [\n",
    "    {\n",
    "    'model': [LGBMRegressor()],\n",
    "    'model__max_depth': [10, 50, 100]\n",
    "    }\n",
    "    ]\n",
    "\n",
    "param_grid_catboost = [\n",
    "    {\n",
    "    'model': [CatBoostRegressor(random_seed=RANDOM_STATE)],\n",
    "    'model__depth': range(1, 12, 2)\n",
    "    }    \n",
    "    ]"
   ]
  },
  {
   "cell_type": "code",
   "execution_count": null,
   "id": "ce260751-9171-4ea5-af55-00be7e71479c",
   "metadata": {},
   "outputs": [],
   "source": [
    "gs_RF = GridSearchCV(estimator = pipeline,\n",
    "                 param_grid = param_grid_random_forest,\n",
    "                 scoring = 'neg_root_mean_squared_error',\n",
    "                 cv=5,\n",
    "                 n_jobs = -1)\n",
    "\n",
    "gs_LGBM = GridSearchCV(estimator = pipeline,\n",
    "                 param_grid = param_grid_LGBM,\n",
    "                 scoring = 'neg_root_mean_squared_error',\n",
    "                 cv=5,\n",
    "                 n_jobs = -1)\n",
    "\n",
    "gs_catboost = GridSearchCV(estimator = pipeline,\n",
    "                 param_grid = param_grid_catboost,\n",
    "                 scoring = 'neg_root_mean_squared_error',\n",
    "                 cv=5,\n",
    "                 n_jobs = -1)"
   ]
  },
  {
   "cell_type": "code",
   "execution_count": null,
   "id": "5d7a408d-7778-4b84-8a08-ea86c50a1ec9",
   "metadata": {
    "scrolled": true
   },
   "outputs": [],
   "source": [
    "gs_RF.fit (X_train, y_train)"
   ]
  },
  {
   "cell_type": "code",
   "execution_count": null,
   "id": "f6d597cb-96dc-4b93-a55f-40f7047d42a2",
   "metadata": {},
   "outputs": [],
   "source": [
    "gs_LGBM.fit (X_train, y_train)"
   ]
  },
  {
   "cell_type": "code",
   "execution_count": null,
   "id": "377339c7-25c5-4a90-88bc-6ef67b363029",
   "metadata": {
    "scrolled": true
   },
   "outputs": [],
   "source": [
    "gs_catboost.fit (X_train, y_train)"
   ]
  },
  {
   "cell_type": "code",
   "execution_count": null,
   "id": "56407677-33f8-4d58-a67d-c009558ec9aa",
   "metadata": {},
   "outputs": [],
   "source": [
    "best_RF = gs_RF.best_estimator_\n",
    "best_LGBM = gs_LGBM.best_estimator_\n",
    "best_catboost = gs_catboost.best_estimator_"
   ]
  },
  {
   "cell_type": "code",
   "execution_count": null,
   "id": "80ea7764-6162-4551-b1a5-e5e38748fb7d",
   "metadata": {},
   "outputs": [],
   "source": [
    "display(f'RandomForest - {(-1) * gs_RF.best_score_}')\n",
    "display(f'LGBM - {(-1) * gs_LGBM.best_score_}')\n",
    "display(f'CatBoost - {(-1) * gs_catboost.best_score_}')"
   ]
  },
  {
   "cell_type": "code",
   "execution_count": null,
   "id": "7f7a6882-b74a-4aeb-b726-1b2390eb90cd",
   "metadata": {},
   "outputs": [],
   "source": [
    "def prediction(estimator):\n",
    "    y_pred_1 = estimator.predict(X_test_1)\n",
    "    y_pred_2 = estimator.predict(X_test_2)\n",
    "    y_pred_3 = estimator.predict(X_test_3)\n",
    "\n",
    "    metric_data = []\n",
    "    for pred, test in zip([y_pred_1, y_pred_2, y_pred_3], [y_test_1, y_test_2, y_test_3]):\n",
    "        metric = root_mean_squared_error(pred, test)\n",
    "        print(f'RMSE test data - {metric}')\n",
    "        metric_data.append(metric)\n",
    "        plt.plot(pred)\n",
    "        plt.plot(list(test))\n",
    "        plt.legend(['predicted', 'real'])\n",
    "        plt.show()\n",
    "\n",
    "    return(y_pred_1, y_pred_2, y_pred_3, metric_data)"
   ]
  },
  {
   "cell_type": "code",
   "execution_count": null,
   "id": "5038dc20-a0da-4a87-92a0-1c02882c2765",
   "metadata": {},
   "outputs": [],
   "source": [
    "RF_1, RF_2, RF_3, RF_metrics = prediction(best_RF)"
   ]
  },
  {
   "cell_type": "code",
   "execution_count": null,
   "id": "fa631528-a306-4606-9214-35350edc80ff",
   "metadata": {},
   "outputs": [],
   "source": [
    "LGBM_1, LGBM_2, LGBM_3, LGBM_metrics = prediction(best_LGBM)"
   ]
  },
  {
   "cell_type": "code",
   "execution_count": null,
   "id": "f38a0afa-058a-42a0-b95c-2e19fa3385da",
   "metadata": {
    "scrolled": true
   },
   "outputs": [],
   "source": [
    "CB_1, CB_2, CB_3, CB_metrics = prediction(best_catboost)"
   ]
  },
  {
   "cell_type": "code",
   "execution_count": null,
   "id": "af21ae77-4274-46fb-9f1e-d5af0ca6269f",
   "metadata": {},
   "outputs": [],
   "source": [
    "RF_metrics = pd.DataFrame(RF_metrics, columns=['RF'])\n",
    "LGBM_metrics = pd.DataFrame(LGBM_metrics, columns=['LGBM'])\n",
    "CB_metrics = pd.DataFrame(CB_metrics, columns=['CB'])\n",
    "\n",
    "all_metrics = pd.concat([RF_metrics, LGBM_metrics, CB_metrics], axis=1)\n",
    "all_metrics"
   ]
  },
  {
   "cell_type": "code",
   "execution_count": null,
   "id": "6067a1c1-918d-4451-b366-e128798b36b9",
   "metadata": {},
   "outputs": [],
   "source": [
    "list_RF_predictions = [RF_1, RF_2, RF_3]\n",
    "list_LGBM_predictions = [LGBM_1, LGBM_2, LGBM_3]\n",
    "list_CB_predictions = [CB_1, CB_2, CB_3]"
   ]
  },
  {
   "cell_type": "code",
   "execution_count": null,
   "id": "e161c2d0-04c7-4c71-8188-bd0eaba9eff7",
   "metadata": {
    "scrolled": true
   },
   "outputs": [],
   "source": [
    "CB_LGBM_pred = [(i + j) / 2 for i, j in zip(list_LGBM_predictions, list_CB_predictions)]\n",
    "\n",
    "metric_CB_LGBM = []\n",
    "for pred, target in zip(CB_LGBM_pred, [y_test_1, y_test_2, y_test_3]):\n",
    "    metric = root_mean_squared_error(pred, target)\n",
    "    print(f'RMSE test data - {metric}')\n",
    "    metric_CB_LGBM.append(metric)\n",
    "    plt.plot(pred)\n",
    "    plt.plot(list(target))\n",
    "    plt.legend(['predicted', 'real'])\n",
    "    plt.show()\n",
    "\n",
    "metric_CB_LGBM = pd.DataFrame(metric_CB_LGBM, columns=['LGBM_CB'])\n",
    "all_metrics = pd.concat([all_metrics, metric_CB_LGBM], axis=1)\n",
    "all_metrics"
   ]
  },
  {
   "cell_type": "code",
   "execution_count": null,
   "id": "efd18412-9b14-4894-ac33-10fab9f76159",
   "metadata": {
    "scrolled": true
   },
   "outputs": [],
   "source": [
    "RF_LGBM_pred = [(i + j) / 2 for i, j in zip(list_LGBM_predictions, list_RF_predictions)]\n",
    "\n",
    "metric_RF_LGBM = []\n",
    "for pred, target in zip(RF_LGBM_pred, [y_test_1, y_test_2, y_test_3]):\n",
    "    metric = root_mean_squared_error(pred, target)\n",
    "    print(f'RMSE test data - {metric}')\n",
    "    metric_RF_LGBM.append(metric)\n",
    "    plt.plot(pred)\n",
    "    plt.plot(list(target))\n",
    "    plt.legend(['predicted', 'real'])\n",
    "    plt.show()\n",
    "\n",
    "metric_RF_LGBM = pd.DataFrame(metric_RF_LGBM, columns=['LGBM_RF'])\n",
    "all_metrics = pd.concat([all_metrics, metric_RF_LGBM], axis=1)\n",
    "all_metrics"
   ]
  },
  {
   "cell_type": "code",
   "execution_count": null,
   "id": "7678ed6e-c0c6-4cd9-94f2-ed386380f1f4",
   "metadata": {
    "scrolled": true
   },
   "outputs": [],
   "source": [
    "RF_CB_LGBM_pred = [(i + j + k) / 3 for i, j, k in zip(list_LGBM_predictions, list_CB_predictions, list_RF_predictions)]\n",
    "\n",
    "metric_CB_LGBM_RF = []\n",
    "for pred, target in zip(RF_CB_LGBM_pred, [y_test_1, y_test_2, y_test_3]):\n",
    "    metric = root_mean_squared_error(pred, target)\n",
    "    print(f'RMSE test data - {metric}')\n",
    "    metric_CB_LGBM_RF.append(metric)\n",
    "    plt.plot(pred)\n",
    "    plt.plot(list(target))\n",
    "    plt.legend(['predicted', 'real'])\n",
    "    plt.show()\n",
    "\n",
    "metric_CB_LGBM_RF = pd.DataFrame(metric_CB_LGBM_RF, columns=['RF_LGBM_CB'])\n",
    "all_metrics = pd.concat([all_metrics, metric_CB_LGBM_RF], axis=1)"
   ]
  },
  {
   "cell_type": "code",
   "execution_count": null,
   "id": "d6996447-5540-4716-bcbd-b8f3c1026f65",
   "metadata": {},
   "outputs": [],
   "source": [
    "all_metrics"
   ]
  },
  {
   "cell_type": "code",
   "execution_count": null,
   "id": "fb6717df-4a48-4b37-9781-1636d7ded1b3",
   "metadata": {},
   "outputs": [],
   "source": [
    "all_metrics.mean()"
   ]
  },
  {
   "cell_type": "markdown",
   "id": "04d22563-1d3c-475b-83c8-d420e6b0d98c",
   "metadata": {},
   "source": [
    "# Feature importance"
   ]
  },
  {
   "cell_type": "code",
   "execution_count": null,
   "id": "a3b431a1-5b3a-4518-bb4f-59c8ade927fa",
   "metadata": {
    "scrolled": true
   },
   "outputs": [],
   "source": [
    "def plot_feature_importances(gs, model_name, feature_names):\n",
    "    best_model = gs.best_estimator_.named_steps['model']\n",
    "    importances = best_model.feature_importances_\n",
    "    indices = np.argsort(importances)  # Без [::-1] для горизонтального графика\n",
    "\n",
    "    plt.figure(figsize=(10, 6))\n",
    "    plt.title(f'Feature Importances ({model_name})')\n",
    "    plt.barh(np.array(feature_names)[indices], importances[indices], align='center')  # barh вместо bar\n",
    "    plt.xlabel('Importance')\n",
    "    plt.ylabel('Features')\n",
    "    plt.show()\n",
    "    \n",
    "    return pd.DataFrame({'Feature': np.array(feature_names)[indices], 'Importance': importances[indices]})\n",
    "\n",
    "\n",
    "feature_names = num_columns + ord_columns\n",
    "\n",
    "rf_importances = plot_feature_importances(gs_RF, 'RandomForest', feature_names)\n",
    "lgbm_importances = plot_feature_importances(gs_LGBM, 'LGBM', feature_names)\n",
    "catboost_importances = plot_feature_importances(gs_catboost, 'CatBoost', feature_names)"
   ]
  },
  {
   "cell_type": "markdown",
   "id": "a49f3a05-5a20-4bed-9393-a40c76e1c116",
   "metadata": {},
   "source": [
    "# Blind prediction"
   ]
  },
  {
   "cell_type": "code",
   "execution_count": null,
   "id": "cd0dac5b-86f4-4025-a990-facedecc7eb8",
   "metadata": {
    "scrolled": true
   },
   "outputs": [],
   "source": [
    "blind_form_1 = pd.read_csv(\"phase_1/phase1_blind_test_predictions_1.csv\")\n",
    "blind_form_2 = pd.read_csv(\"phase_1/phase1_blind_test_predictions_2.csv\")\n",
    "blind_form_3 = pd.read_csv(\"phase_1/phase1_blind_test_predictions_3.csv\")\n",
    "\n",
    "columns = blind_form_3.columns\n",
    "\n",
    "X_train_all = all_train_df.drop(columns='Bttm Pipe Temp (°F)', axis=1)\n",
    "y_train_all = all_train_df['Bttm Pipe Temp (°F)']\n",
    "\n",
    "best_RF.fit(X_train_all, y_train_all)\n",
    "best_LGBM.fit(X_train_all, y_train_all)\n",
    "best_catboost.fit(X_train_all, y_train_all)"
   ]
  },
  {
   "cell_type": "code",
   "execution_count": null,
   "id": "72c5d243-411a-492e-a79c-c1ca9872a74e",
   "metadata": {},
   "outputs": [],
   "source": [
    "def blind_prediction(df_blind_prediction,\n",
    "                    rf_model, \n",
    "                    lgbm_model,\n",
    "                    catboost_model,\n",
    "                    blind_form):\n",
    "    \n",
    "    real_data = rf_model.predict(df_blind_prediction) + lgbm_model.predict(df_blind_prediction) + catboost_model.predict(df_blind_prediction)\n",
    "    real_data /= 3\n",
    "    real_data = pd.DataFrame(real_data)\n",
    "    \n",
    "    value_depth = df_blind_prediction['Depth(ft)']\n",
    "    \n",
    "    real_predictions = pd.concat([value_depth, real_data], axis=1)\n",
    "    real_predictions.columns = blind_form.columns\n",
    "\n",
    "    start_date = blind_form.iloc[0, 0]\n",
    "    end_date = blind_form.iloc[-1, 0] + 0.001\n",
    "    interpolate_columns = pd.DataFrame(np.arange(start_date, end_date, 0.001), columns=['Depth(ft)'])\n",
    "    print(real_predictions.columns)\n",
    "    sns.lineplot(data = real_predictions, x='Depth(ft)', y='Bttm Pipe Temp (°F) - predicted', label = 'predicted')\n",
    "    \n",
    "    real_predictions['Depth(ft)'] = real_predictions['Depth(ft)'].map(lambda x: f\"{x:.3f}\")\n",
    "    interpolate_columns['Depth(ft)'] = interpolate_columns['Depth(ft)'].map(lambda x: f\"{x:.3f}\")\n",
    "\n",
    "    before_interpolation = interpolate_columns.merge(real_predictions, how='left', on='Depth(ft)')\n",
    "    before_interpolation['Bttm Pipe Temp (°F) - predicted'] = before_interpolation['Bttm Pipe Temp (°F) - predicted'].interpolate(method='linear')\n",
    "\n",
    "    blind_form['Depth(ft)'] = blind_form['Depth(ft)'].map(lambda x: f\"{x:.3f}\")\n",
    "    blind_form = blind_form.drop(columns=['Bttm Pipe Temp (°F) - predicted'], axis=1)\n",
    "    \n",
    "    final_version = blind_form.merge(before_interpolation, how='left', on='Depth(ft)')\n",
    "    final_version['Depth(ft)'] = final_version['Depth(ft)'].astype(float)\n",
    "        \n",
    "    sns.lineplot(data = final_version, x='Depth(ft)', y='Bttm Pipe Temp (°F) - predicted', label = 'interpolated')\n",
    "\n",
    "    return (final_version)"
   ]
  },
  {
   "cell_type": "code",
   "execution_count": null,
   "id": "8e6ecef3-be5e-412a-a8c2-4a9dca6ce9f4",
   "metadata": {},
   "outputs": [],
   "source": [
    "blind_form_1_pred = blind_prediction(test_1_important, best_RF, best_LGBM, best_catboost, blind_form_1)"
   ]
  },
  {
   "cell_type": "code",
   "execution_count": null,
   "id": "01db516a-e2e5-4579-b250-9a534c297728",
   "metadata": {},
   "outputs": [],
   "source": [
    "blind_form_2_pred = blind_prediction(test_2_important, best_RF, best_LGBM, best_catboost, blind_form_2)"
   ]
  },
  {
   "cell_type": "code",
   "execution_count": null,
   "id": "af296b2c-1a82-4a13-9120-20f577d78f66",
   "metadata": {},
   "outputs": [],
   "source": [
    "blind_form_3_pred = blind_prediction(test_3_important, best_RF, best_LGBM, best_catboost, blind_form_3)"
   ]
  },
  {
   "cell_type": "code",
   "execution_count": null,
   "id": "fbdfe25b-0800-4774-a797-30b389584696",
   "metadata": {},
   "outputs": [],
   "source": [
    "blind_form_1_pred.to_csv('phase1_blind_test_predictions_1.csv', index=False)\n",
    "blind_form_2_pred.to_csv('phase1_blind_test_predictions_2.csv', index=False)\n",
    "blind_form_3_pred.to_csv('phase1_blind_test_predictions_3.csv', index=False)"
   ]
  },
  {
   "cell_type": "markdown",
   "id": "e70e4285",
   "metadata": {},
   "source": [
    "---"
   ]
  },
  {
   "cell_type": "markdown",
   "id": "5e33ff82",
   "metadata": {},
   "source": [
    "# 2nd phase"
   ]
  },
  {
   "cell_type": "markdown",
   "id": "32851678",
   "metadata": {},
   "source": [
    "Now lets work around with 2nd phase test/train datasets:"
   ]
  },
  {
   "cell_type": "code",
   "execution_count": null,
   "id": "397efd11",
   "metadata": {},
   "outputs": [],
   "source": [
    "useful_columns = training_dataset_1_important.columns\n",
    "display(useful_columns)"
   ]
  },
  {
   "cell_type": "markdown",
   "id": "7bb90cb1",
   "metadata": {},
   "source": []
  },
  {
   "cell_type": "code",
   "execution_count": null,
   "id": "ecaf3bcd",
   "metadata": {},
   "outputs": [],
   "source": [
    "test_useful_columns = useful_columns.drop('Bttm Pipe Temp (°F)')\n",
    "display(test_useful_columns)"
   ]
  },
  {
   "cell_type": "code",
   "execution_count": null,
   "id": "36e5043e",
   "metadata": {},
   "outputs": [],
   "source": [
    "ph2_training_dataset_1 = pd.read_csv(\"phase_2/FineTune_Train_dataset_1.csv\")\n",
    "ph2_training_dataset_2 = pd.read_csv(\"phase_2/FineTune_Train_dataset_2.csv\")\n",
    "\n",
    "ph2_test_1 = pd.read_csv(\"phase_2/FineTune_Test_dataset_1.csv\")\n",
    "ph2_test_2 = pd.read_csv(\"phase_2/FineTune_Test_dataset_2.csv\")"
   ]
  },
  {
   "cell_type": "code",
   "execution_count": null,
   "id": "e0f65607",
   "metadata": {},
   "outputs": [],
   "source": [
    "ph2_training_datasets = {\n",
    "    \"ph2_training_dataset_1\": ph2_training_dataset_1,\n",
    "    \"ph2_training_dataset_2\": ph2_training_dataset_2\n",
    "}\n",
    "\n",
    "ph2_test_datasets = {\n",
    "    \"ph2_test_1\": ph2_test_1,\n",
    "    \"ph2_test_2\": ph2_test_2\n",
    "}"
   ]
  },
  {
   "cell_type": "markdown",
   "id": "31c2dc40",
   "metadata": {},
   "source": [
    "### checking dataset's sizes"
   ]
  },
  {
   "cell_type": "code",
   "execution_count": null,
   "id": "fbecde9c",
   "metadata": {},
   "outputs": [],
   "source": [
    "for name, dataset in ph2_training_datasets.items():\n",
    "    print(f\"Dataset: {name}\")\n",
    "    print(dataset.shape)"
   ]
  },
  {
   "cell_type": "code",
   "execution_count": null,
   "id": "06b875e2",
   "metadata": {},
   "outputs": [],
   "source": [
    "for name, dataset in ph2_test_datasets.items():\n",
    "    print(f\"Dataset: {name}\")\n",
    "    print(dataset.shape)"
   ]
  },
  {
   "cell_type": "markdown",
   "id": "9e4f72b5",
   "metadata": {},
   "source": [
    "### adding tvd to all datasets"
   ]
  },
  {
   "cell_type": "code",
   "execution_count": null,
   "id": "6ed9234e",
   "metadata": {},
   "outputs": [],
   "source": [
    "for name in ph2_training_datasets:\n",
    "    ph2_training_datasets[name] = tvd_counting(ph2_training_datasets[name])\n",
    "for name in ph2_test_datasets:\n",
    "    ph2_test_datasets[name] = tvd_counting(ph2_test_datasets[name])"
   ]
  },
  {
   "cell_type": "markdown",
   "id": "daa8ebc2",
   "metadata": {},
   "source": [
    "### preprocessing"
   ]
  },
  {
   "cell_type": "code",
   "execution_count": null,
   "id": "69f1227d",
   "metadata": {},
   "outputs": [],
   "source": [
    "for name in ph2_training_datasets:\n",
    "    ph2_training_datasets[name] = temp_preproc(ph2_training_datasets[name])\n",
    "for name in ph2_test_datasets:\n",
    "    ph2_test_datasets[name] = temp_preproc(ph2_test_datasets[name])"
   ]
  },
  {
   "cell_type": "code",
   "execution_count": null,
   "id": "167f20ee",
   "metadata": {},
   "outputs": [],
   "source": [
    "for name, dataset in ph2_test_datasets.items():\n",
    "    print(f\"Dataset: {name}\")\n",
    "    print(dataset.shape)"
   ]
  },
  {
   "cell_type": "markdown",
   "id": "161695ba",
   "metadata": {},
   "source": [
    "### sorting out 2nd phase based on columns chosed in 1st phase"
   ]
  },
  {
   "cell_type": "code",
   "execution_count": null,
   "id": "455b66bc",
   "metadata": {},
   "outputs": [],
   "source": [
    "for name in ph2_training_datasets:\n",
    "    ph2_training_datasets[name]['DateTime'] = pd.to_datetime(ph2_training_datasets[name]['DateTime'])\n",
    "    ph2_training_datasets[name] = ph2_training_datasets[name][useful_columns]\n",
    "    \n",
    "    print(f\"Dataset: {name}\")\n",
    "    print(ph2_training_datasets[name].shape)\n",
    "    \n",
    "    "
   ]
  },
  {
   "cell_type": "code",
   "execution_count": null,
   "id": "62ad8f45",
   "metadata": {},
   "outputs": [],
   "source": [
    "for name in ph2_test_datasets:\n",
    "    ph2_test_datasets[name]['DateTime'] = pd.to_datetime(ph2_test_datasets[name]['DateTime'])\n",
    "    ph2_test_datasets[name] = ph2_test_datasets[name][test_useful_columns]\n",
    "    \n",
    "    print(f\"Dataset: {name}\")\n",
    "    print(ph2_test_datasets[name].shape)"
   ]
  },
  {
   "cell_type": "code",
   "execution_count": null,
   "id": "5aea81a4",
   "metadata": {},
   "outputs": [],
   "source": [
    "display(useful_columns)"
   ]
  },
  {
   "cell_type": "markdown",
   "id": "c809b724",
   "metadata": {},
   "source": [
    "# Data exploration"
   ]
  },
  {
   "cell_type": "code",
   "execution_count": null,
   "id": "0291dec0",
   "metadata": {},
   "outputs": [],
   "source": [
    "for name, dataset in ph2_training_datasets.items():\n",
    "    print(f\"Dataset: {name}\")\n",
    "    data_exploration(dataset, name)"
   ]
  },
  {
   "cell_type": "markdown",
   "id": "949444f7",
   "metadata": {},
   "source": [
    "# Phase 2 - EDA before preproc"
   ]
  },
  {
   "cell_type": "markdown",
   "id": "1a8d432b",
   "metadata": {},
   "source": [
    "## 1 train"
   ]
  },
  {
   "cell_type": "code",
   "execution_count": null,
   "id": "31d5b1ca",
   "metadata": {},
   "outputs": [],
   "source": [
    "EDA(ph2_training_datasets[\"ph2_training_dataset_1\"], 'Bttm Pipe Temp (°F)')"
   ]
  },
  {
   "cell_type": "markdown",
   "id": "8b024f24",
   "metadata": {},
   "source": [
    "## 2 train"
   ]
  },
  {
   "cell_type": "code",
   "execution_count": null,
   "id": "8cc26cfe",
   "metadata": {},
   "outputs": [],
   "source": [
    "EDA(ph2_training_datasets[\"ph2_training_dataset_2\"], 'Bttm Pipe Temp (°F)')"
   ]
  },
  {
   "cell_type": "markdown",
   "id": "ce0857fb",
   "metadata": {},
   "source": [
    "# Phase 2 - Data PreProc"
   ]
  },
  {
   "cell_type": "markdown",
   "id": "f257b57e",
   "metadata": {},
   "source": [
    "## `AD ROP SP (ft/hr)`"
   ]
  },
  {
   "cell_type": "markdown",
   "id": "b3b6ed38",
   "metadata": {},
   "source": [
    "### **Train 1**"
   ]
  },
  {
   "cell_type": "code",
   "execution_count": null,
   "id": "e6e52b45",
   "metadata": {},
   "outputs": [],
   "source": [
    "px.line(ph2_training_datasets[\"ph2_training_dataset_1\"]['AD ROP SP (ft/hr)'])"
   ]
  },
  {
   "cell_type": "markdown",
   "id": "53ea6897",
   "metadata": {},
   "source": [
    "### **Train 2**"
   ]
  },
  {
   "cell_type": "code",
   "execution_count": null,
   "id": "b6a18ed5",
   "metadata": {},
   "outputs": [],
   "source": [
    "px.line(ph2_training_datasets[\"ph2_training_dataset_2\"]['AD ROP SP (ft/hr)'])"
   ]
  },
  {
   "cell_type": "markdown",
   "id": "db88e170",
   "metadata": {},
   "source": [
    "### **Test 1**"
   ]
  },
  {
   "cell_type": "code",
   "execution_count": null,
   "id": "49f57229",
   "metadata": {},
   "outputs": [],
   "source": [
    "px.line(ph2_test_datasets['ph2_test_1']['AD ROP SP (ft/hr)'])"
   ]
  },
  {
   "cell_type": "markdown",
   "id": "6dfe615a",
   "metadata": {},
   "source": [
    "### **Test 2**"
   ]
  },
  {
   "cell_type": "code",
   "execution_count": null,
   "id": "93da4221",
   "metadata": {},
   "outputs": [],
   "source": [
    "px.line(ph2_test_datasets['ph2_test_2']['AD ROP SP (ft/hr)'])"
   ]
  },
  {
   "cell_type": "markdown",
   "id": "947ace4c",
   "metadata": {},
   "source": [
    "## `Annular Velocity (ft/min)`"
   ]
  },
  {
   "cell_type": "markdown",
   "id": "532d96f8",
   "metadata": {},
   "source": [
    "### **Train 1**"
   ]
  },
  {
   "cell_type": "code",
   "execution_count": null,
   "id": "6dc1f97c",
   "metadata": {},
   "outputs": [],
   "source": [
    "px.line(ph2_training_datasets[\"ph2_training_dataset_1\"]['Annular Velocity (ft/min)'])"
   ]
  },
  {
   "cell_type": "code",
   "execution_count": null,
   "id": "f11fe2a3",
   "metadata": {},
   "outputs": [],
   "source": [
    "for name in ph2_training_datasets:\n",
    "    ph2_training_datasets[name] = annular_velocity_correctin(ph2_training_datasets[name])"
   ]
  },
  {
   "cell_type": "code",
   "execution_count": null,
   "id": "fb990061",
   "metadata": {},
   "outputs": [],
   "source": [
    "px.line(ph2_training_datasets[\"ph2_training_dataset_1\"]['Annular Velocity (ft/min)'])"
   ]
  },
  {
   "cell_type": "markdown",
   "id": "b4e04c20",
   "metadata": {},
   "source": [
    "### **Train 2**"
   ]
  },
  {
   "cell_type": "code",
   "execution_count": null,
   "id": "cda29627",
   "metadata": {},
   "outputs": [],
   "source": [
    "px.line(ph2_training_datasets[\"ph2_training_dataset_2\"]['Annular Velocity (ft/min)'])"
   ]
  },
  {
   "cell_type": "markdown",
   "id": "463d9b7e",
   "metadata": {},
   "source": [
    "### **Test 1**"
   ]
  },
  {
   "cell_type": "code",
   "execution_count": null,
   "id": "03b7210d",
   "metadata": {},
   "outputs": [],
   "source": [
    "for name in ph2_test_datasets:\n",
    "    ph2_test_datasets[name] = annular_velocity_correctin(ph2_test_datasets[name])"
   ]
  },
  {
   "cell_type": "code",
   "execution_count": null,
   "id": "46aa5cde",
   "metadata": {},
   "outputs": [],
   "source": [
    "px.line(ph2_test_datasets[\"ph2_test_1\"]['Annular Velocity (ft/min)'])"
   ]
  },
  {
   "cell_type": "markdown",
   "id": "61d49958",
   "metadata": {},
   "source": [
    "### **Test 2**"
   ]
  },
  {
   "cell_type": "code",
   "execution_count": null,
   "id": "9341c58c",
   "metadata": {},
   "outputs": [],
   "source": [
    "px.line(ph2_test_datasets[\"ph2_test_2\"]['Annular Velocity (ft/min)'])"
   ]
  },
  {
   "cell_type": "markdown",
   "id": "5bd1a2f5",
   "metadata": {},
   "source": [
    "## `Bit Size (in)`"
   ]
  },
  {
   "cell_type": "markdown",
   "id": "d249898f",
   "metadata": {},
   "source": [
    "### **Train 1**"
   ]
  },
  {
   "cell_type": "code",
   "execution_count": null,
   "id": "74f6e93c",
   "metadata": {},
   "outputs": [],
   "source": [
    "px.line(ph2_training_datasets[\"ph2_training_dataset_1\"]['Bit Size (in)'])"
   ]
  },
  {
   "cell_type": "markdown",
   "id": "466c51fd",
   "metadata": {},
   "source": [
    "### **Train 2**"
   ]
  },
  {
   "cell_type": "code",
   "execution_count": null,
   "id": "aa1e8fd5",
   "metadata": {},
   "outputs": [],
   "source": [
    "px.line(ph2_training_datasets[\"ph2_training_dataset_2\"]['Bit Size (in)'])"
   ]
  },
  {
   "cell_type": "markdown",
   "id": "a2bb358c",
   "metadata": {},
   "source": [
    "### **Test 1**"
   ]
  },
  {
   "cell_type": "code",
   "execution_count": null,
   "id": "830a5b18",
   "metadata": {},
   "outputs": [],
   "source": [
    "px.line(ph2_test_datasets[\"ph2_test_1\"]['Bit Size (in)'])"
   ]
  },
  {
   "cell_type": "markdown",
   "id": "23638e96",
   "metadata": {},
   "source": [
    "### **Test 2**"
   ]
  },
  {
   "cell_type": "code",
   "execution_count": null,
   "id": "94ee9ce1",
   "metadata": {},
   "outputs": [],
   "source": [
    "px.line(ph2_test_datasets[\"ph2_test_2\"]['Bit Size (in)'])"
   ]
  },
  {
   "cell_type": "markdown",
   "id": "9095c1a0",
   "metadata": {},
   "source": [
    "## `Bit Time (hr)`"
   ]
  },
  {
   "cell_type": "markdown",
   "id": "0c5829be",
   "metadata": {},
   "source": [
    "### **Train 1**"
   ]
  },
  {
   "cell_type": "code",
   "execution_count": null,
   "id": "aa321369",
   "metadata": {},
   "outputs": [],
   "source": [
    "px.line(ph2_training_datasets[\"ph2_training_dataset_1\"]['Bit Time (hr)'])"
   ]
  },
  {
   "cell_type": "markdown",
   "id": "6f06df77",
   "metadata": {},
   "source": [
    "### **Train 2**"
   ]
  },
  {
   "cell_type": "code",
   "execution_count": null,
   "id": "c958743d",
   "metadata": {},
   "outputs": [],
   "source": [
    "px.line(ph2_training_datasets[\"ph2_training_dataset_2\"]['Bit Time (hr)'])"
   ]
  },
  {
   "cell_type": "markdown",
   "id": "340d2c5e",
   "metadata": {},
   "source": [
    "### **Test 1**"
   ]
  },
  {
   "cell_type": "code",
   "execution_count": null,
   "id": "e8ca34b7",
   "metadata": {},
   "outputs": [],
   "source": [
    "px.line(ph2_test_datasets[\"ph2_test_1\"]['Bit Time (hr)'])"
   ]
  },
  {
   "cell_type": "markdown",
   "id": "c6e76643",
   "metadata": {},
   "source": [
    "### **Test 2**"
   ]
  },
  {
   "cell_type": "code",
   "execution_count": null,
   "id": "1fd07ac7",
   "metadata": {},
   "outputs": [],
   "source": [
    "px.line(ph2_test_datasets[\"ph2_test_2\"]['Bit Time (hr)'])"
   ]
  },
  {
   "cell_type": "markdown",
   "id": "f19c88b2",
   "metadata": {},
   "source": [
    "## `Bit Weight (klb)`"
   ]
  },
  {
   "cell_type": "markdown",
   "id": "86309991",
   "metadata": {},
   "source": [
    "### **Train 1**"
   ]
  },
  {
   "cell_type": "code",
   "execution_count": null,
   "id": "9846c09e",
   "metadata": {},
   "outputs": [],
   "source": [
    "px.line(ph2_training_datasets[\"ph2_training_dataset_1\"]['Bit Weight (klb)'])"
   ]
  },
  {
   "cell_type": "markdown",
   "id": "50bff71f",
   "metadata": {},
   "source": [
    "### **Train 2**"
   ]
  },
  {
   "cell_type": "code",
   "execution_count": null,
   "id": "9bc05cff",
   "metadata": {},
   "outputs": [],
   "source": [
    "px.line(ph2_training_datasets[\"ph2_training_dataset_2\"]['Bit Weight (klb)'])"
   ]
  },
  {
   "cell_type": "markdown",
   "id": "0bf4ee72",
   "metadata": {},
   "source": [
    "### **Test 1**"
   ]
  },
  {
   "cell_type": "code",
   "execution_count": null,
   "id": "03530329",
   "metadata": {},
   "outputs": [],
   "source": [
    "px.line(ph2_test_datasets[\"ph2_test_1\"]['Bit Weight (klb)'])"
   ]
  },
  {
   "cell_type": "markdown",
   "id": "66aff5f3",
   "metadata": {},
   "source": [
    "### **Test 2**"
   ]
  },
  {
   "cell_type": "code",
   "execution_count": null,
   "id": "e9be129b",
   "metadata": {},
   "outputs": [],
   "source": [
    "px.line(ph2_test_datasets[\"ph2_test_2\"]['Bit Weight (klb)'])"
   ]
  },
  {
   "cell_type": "markdown",
   "id": "465b6316",
   "metadata": {},
   "source": [
    "## `Bttm Pipe Temp (°F)`"
   ]
  },
  {
   "cell_type": "markdown",
   "id": "d638407e",
   "metadata": {},
   "source": [
    "### **Train 1**"
   ]
  },
  {
   "cell_type": "code",
   "execution_count": null,
   "id": "ee30f84b",
   "metadata": {},
   "outputs": [],
   "source": [
    "# df1 = ph2_training_datasets[\"ph2_training_dataset_1\"]\n",
    "# df2 = ph2_training_datasets[\"ph2_training_dataset_2\"]"
   ]
  },
  {
   "cell_type": "code",
   "execution_count": null,
   "id": "3a56a9fb",
   "metadata": {},
   "outputs": [],
   "source": [
    "px.line(ph2_training_datasets[\"ph2_training_dataset_1\"]['Bttm Pipe Temp (°F)'])"
   ]
  },
  {
   "cell_type": "code",
   "execution_count": null,
   "id": "1ad17fbf",
   "metadata": {},
   "outputs": [],
   "source": [
    "ph2_training_datasets[\"ph2_training_dataset_1\"].loc[(ph2_training_datasets[\"ph2_training_dataset_1\"]['Bttm Pipe Temp (°F)'] > 101) & (ph2_training_datasets[\"ph2_training_dataset_1\"].index < 1400), 'Bttm Pipe Temp (°F)'] = np.nan\n",
    "ph2_training_datasets[\"ph2_training_dataset_1\"].loc[(ph2_training_datasets[\"ph2_training_dataset_1\"]['Bttm Pipe Temp (°F)'] < 50),'Bttm Pipe Temp (°F)' ] = np.nan\n",
    "ph2_training_datasets[\"ph2_training_dataset_1\"].loc[(ph2_training_datasets[\"ph2_training_dataset_1\"]['Bttm Pipe Temp (°F)'] > 250), 'Bttm Pipe Temp (°F)']  = np.nan\n",
    "ph2_training_datasets[\"ph2_training_dataset_1\"].loc[:, 'Bttm Pipe Temp (°F)'] = ph2_training_datasets[\"ph2_training_dataset_1\"]['Bttm Pipe Temp (°F)'].ffill()"
   ]
  },
  {
   "cell_type": "code",
   "execution_count": null,
   "id": "9882db6d",
   "metadata": {},
   "outputs": [],
   "source": [
    "px.line(ph2_training_datasets[\"ph2_training_dataset_1\"]['Bttm Pipe Temp (°F)'])"
   ]
  },
  {
   "cell_type": "markdown",
   "id": "becb0945",
   "metadata": {},
   "source": [
    "### **Train 2**"
   ]
  },
  {
   "cell_type": "code",
   "execution_count": null,
   "id": "4f1f4246",
   "metadata": {},
   "outputs": [],
   "source": [
    "px.line(ph2_training_datasets[\"ph2_training_dataset_2\"]['Bttm Pipe Temp (°F)'])"
   ]
  },
  {
   "cell_type": "markdown",
   "id": "48a40278",
   "metadata": {},
   "source": [
    "## `Circulating Hrs (hr)`"
   ]
  },
  {
   "cell_type": "markdown",
   "id": "2b89a65e",
   "metadata": {},
   "source": [
    "### **Train 1**"
   ]
  },
  {
   "cell_type": "code",
   "execution_count": null,
   "id": "4f4e6a0e",
   "metadata": {},
   "outputs": [],
   "source": [
    "px.line(ph2_training_datasets[\"ph2_training_dataset_1\"]['Circulating Hrs (hr)'])"
   ]
  },
  {
   "cell_type": "markdown",
   "id": "804b000c",
   "metadata": {},
   "source": [
    "### **Train 2**"
   ]
  },
  {
   "cell_type": "code",
   "execution_count": null,
   "id": "8a07c8d5",
   "metadata": {},
   "outputs": [],
   "source": [
    "px.line(ph2_training_datasets[\"ph2_training_dataset_2\"]['Circulating Hrs (hr)'])"
   ]
  },
  {
   "cell_type": "markdown",
   "id": "b92dfc03",
   "metadata": {},
   "source": [
    "### **Test 1**"
   ]
  },
  {
   "cell_type": "code",
   "execution_count": null,
   "id": "457dc048",
   "metadata": {},
   "outputs": [],
   "source": [
    "px.line(ph2_test_datasets[\"ph2_test_1\"]['Circulating Hrs (hr)'])"
   ]
  },
  {
   "cell_type": "markdown",
   "id": "96caaa55",
   "metadata": {},
   "source": [
    "### **Test 2**"
   ]
  },
  {
   "cell_type": "code",
   "execution_count": null,
   "id": "956b7f8b",
   "metadata": {},
   "outputs": [],
   "source": [
    "px.line(ph2_test_datasets[\"ph2_test_2\"]['Circulating Hrs (hr)'])"
   ]
  },
  {
   "cell_type": "markdown",
   "id": "cea7c744",
   "metadata": {},
   "source": [
    "## `Co. Man G/L (bbl)`"
   ]
  },
  {
   "cell_type": "markdown",
   "id": "27738396",
   "metadata": {},
   "source": [
    "### **Train 1**"
   ]
  },
  {
   "cell_type": "code",
   "execution_count": null,
   "id": "2ea84ee7",
   "metadata": {},
   "outputs": [],
   "source": [
    "px.line(ph2_training_datasets[\"ph2_training_dataset_1\"]['Co. Man G/L (bbl)'])"
   ]
  },
  {
   "cell_type": "markdown",
   "id": "d7308a26",
   "metadata": {},
   "source": [
    "## `Diff Press (psi)`"
   ]
  },
  {
   "cell_type": "markdown",
   "id": "282f4197",
   "metadata": {},
   "source": [
    "### **Train 1**"
   ]
  },
  {
   "cell_type": "code",
   "execution_count": null,
   "id": "b2692a03",
   "metadata": {},
   "outputs": [],
   "source": [
    "px.line(ph2_training_datasets[\"ph2_training_dataset_1\"]['Diff Press (psi)'])"
   ]
  },
  {
   "cell_type": "markdown",
   "id": "78ee1801",
   "metadata": {},
   "source": [
    "### **Train 2**"
   ]
  },
  {
   "cell_type": "code",
   "execution_count": null,
   "id": "f18bf117",
   "metadata": {},
   "outputs": [],
   "source": [
    "px.line(ph2_training_datasets[\"ph2_training_dataset_2\"]['Diff Press (psi)'])"
   ]
  },
  {
   "cell_type": "markdown",
   "id": "ef8e50c9",
   "metadata": {},
   "source": [
    "### **Test 1**"
   ]
  },
  {
   "cell_type": "code",
   "execution_count": null,
   "id": "b71c751c",
   "metadata": {},
   "outputs": [],
   "source": [
    "px.line(ph2_test_datasets[\"ph2_test_1\"]['Diff Press (psi)'])"
   ]
  },
  {
   "cell_type": "markdown",
   "id": "37b81068",
   "metadata": {},
   "source": [
    "### **Test 2**"
   ]
  },
  {
   "cell_type": "code",
   "execution_count": null,
   "id": "b9835472",
   "metadata": {},
   "outputs": [],
   "source": [
    "px.line(ph2_test_datasets[\"ph2_test_2\"]['Diff Press (psi)'])"
   ]
  },
  {
   "cell_type": "markdown",
   "id": "c3e56084",
   "metadata": {},
   "source": [
    "## `Flow In Rate (galUS/min)`"
   ]
  },
  {
   "cell_type": "markdown",
   "id": "6a649a5b",
   "metadata": {},
   "source": [
    "### **Train 1**"
   ]
  },
  {
   "cell_type": "code",
   "execution_count": null,
   "id": "29040901",
   "metadata": {},
   "outputs": [],
   "source": [
    "px.line(ph2_training_datasets[\"ph2_training_dataset_1\"]['Flow In Rate (galUS/min)'])"
   ]
  },
  {
   "cell_type": "markdown",
   "id": "1c0e7b78",
   "metadata": {},
   "source": [
    "### **Train 2**"
   ]
  },
  {
   "cell_type": "code",
   "execution_count": null,
   "id": "5f5614c1",
   "metadata": {},
   "outputs": [],
   "source": [
    "px.line(ph2_training_datasets[\"ph2_training_dataset_2\"]['Flow In Rate (galUS/min)'])"
   ]
  },
  {
   "cell_type": "markdown",
   "id": "8e54f248",
   "metadata": {},
   "source": [
    "### **Test 1**"
   ]
  },
  {
   "cell_type": "code",
   "execution_count": null,
   "id": "6350ffd2",
   "metadata": {},
   "outputs": [],
   "source": [
    "px.line(ph2_test_datasets[\"ph2_test_1\"]['Flow In Rate (galUS/min)'])"
   ]
  },
  {
   "cell_type": "markdown",
   "id": "2985e0f0",
   "metadata": {},
   "source": [
    "### **Test 2**"
   ]
  },
  {
   "cell_type": "code",
   "execution_count": null,
   "id": "2ef5d642",
   "metadata": {},
   "outputs": [],
   "source": [
    "px.line(ph2_test_datasets[\"ph2_test_2\"]['Flow In Rate (galUS/min)'])"
   ]
  },
  {
   "cell_type": "markdown",
   "id": "f8209cff",
   "metadata": {},
   "source": [
    "## `Mud Volume (bbl)`"
   ]
  },
  {
   "cell_type": "markdown",
   "id": "0c62b061",
   "metadata": {},
   "source": [
    "### **Train 1**"
   ]
  },
  {
   "cell_type": "code",
   "execution_count": null,
   "id": "e1dd9906",
   "metadata": {},
   "outputs": [],
   "source": [
    "px.line(ph2_training_datasets[\"ph2_training_dataset_1\"]['Mud Volume (bbl)'])"
   ]
  },
  {
   "cell_type": "markdown",
   "id": "cac29dff",
   "metadata": {},
   "source": [
    "### **Train 2**"
   ]
  },
  {
   "cell_type": "code",
   "execution_count": null,
   "id": "e1195694",
   "metadata": {},
   "outputs": [],
   "source": [
    "px.line(ph2_training_datasets[\"ph2_training_dataset_2\"]['Mud Volume (bbl)'])"
   ]
  },
  {
   "cell_type": "markdown",
   "id": "1a920251",
   "metadata": {},
   "source": [
    "### **Test 1**"
   ]
  },
  {
   "cell_type": "code",
   "execution_count": null,
   "id": "3998f2cf",
   "metadata": {},
   "outputs": [],
   "source": [
    "px.line(ph2_test_datasets[\"ph2_test_1\"]['Mud Volume (bbl)'])"
   ]
  },
  {
   "cell_type": "markdown",
   "id": "b1b46f86",
   "metadata": {},
   "source": [
    "### **Test 2**"
   ]
  },
  {
   "cell_type": "code",
   "execution_count": null,
   "id": "06018a61",
   "metadata": {},
   "outputs": [],
   "source": [
    "px.line(ph2_test_datasets[\"ph2_test_2\"]['Mud Volume (bbl)'])"
   ]
  },
  {
   "cell_type": "markdown",
   "id": "943d3a25",
   "metadata": {},
   "source": [
    "## `Pump Pressure (psi)`"
   ]
  },
  {
   "cell_type": "markdown",
   "id": "b065d9dc",
   "metadata": {},
   "source": [
    "### **Train 1**"
   ]
  },
  {
   "cell_type": "code",
   "execution_count": null,
   "id": "7eea97f9",
   "metadata": {},
   "outputs": [],
   "source": [
    "px.line(ph2_training_datasets[\"ph2_training_dataset_1\"]['Pump Pressure (psi)'])"
   ]
  },
  {
   "cell_type": "markdown",
   "id": "93ea00cb",
   "metadata": {},
   "source": [
    "### **Train 2**"
   ]
  },
  {
   "cell_type": "code",
   "execution_count": null,
   "id": "c2efd602",
   "metadata": {},
   "outputs": [],
   "source": [
    "px.line(ph2_training_datasets[\"ph2_training_dataset_2\"]['Pump Pressure (psi)'])"
   ]
  },
  {
   "cell_type": "markdown",
   "id": "28f1a165",
   "metadata": {},
   "source": [
    "### **Test 1**"
   ]
  },
  {
   "cell_type": "code",
   "execution_count": null,
   "id": "c14b11bc",
   "metadata": {},
   "outputs": [],
   "source": [
    "px.line(ph2_test_datasets[\"ph2_test_1\"]['Pump Pressure (psi)'])"
   ]
  },
  {
   "cell_type": "markdown",
   "id": "9316ef7f",
   "metadata": {},
   "source": [
    "### **Test 2**"
   ]
  },
  {
   "cell_type": "code",
   "execution_count": null,
   "id": "f238dd6b",
   "metadata": {},
   "outputs": [],
   "source": [
    "px.line(ph2_test_datasets[\"ph2_test_2\"]['Pump Pressure (psi)'])"
   ]
  },
  {
   "cell_type": "markdown",
   "id": "3c2656c1",
   "metadata": {},
   "source": [
    "## `ROP - Average (ft/hr)`"
   ]
  },
  {
   "cell_type": "markdown",
   "id": "5805347e",
   "metadata": {},
   "source": [
    "### **Train 1**"
   ]
  },
  {
   "cell_type": "code",
   "execution_count": null,
   "id": "e1ce48e4",
   "metadata": {},
   "outputs": [],
   "source": [
    "px.line(ph2_training_datasets[\"ph2_training_dataset_1\"]['ROP - Average (ft/hr)'])"
   ]
  },
  {
   "cell_type": "markdown",
   "id": "89241916",
   "metadata": {},
   "source": [
    "### **Train 2**"
   ]
  },
  {
   "cell_type": "code",
   "execution_count": null,
   "id": "44b9bc4f",
   "metadata": {},
   "outputs": [],
   "source": [
    "px.line(ph2_training_datasets[\"ph2_training_dataset_2\"]['ROP - Average (ft/hr)'])"
   ]
  },
  {
   "cell_type": "markdown",
   "id": "0d28865f",
   "metadata": {},
   "source": [
    "### **Test 1**"
   ]
  },
  {
   "cell_type": "code",
   "execution_count": null,
   "id": "b64d22da",
   "metadata": {},
   "outputs": [],
   "source": [
    "px.line(ph2_test_datasets[\"ph2_test_1\"]['ROP - Average (ft/hr)'])"
   ]
  },
  {
   "cell_type": "markdown",
   "id": "b65e9cd8",
   "metadata": {},
   "source": [
    "### **Test 2**"
   ]
  },
  {
   "cell_type": "code",
   "execution_count": null,
   "id": "78af19bc",
   "metadata": {},
   "outputs": [],
   "source": [
    "px.line(ph2_test_datasets[\"ph2_test_2\"]['ROP - Average (ft/hr)'])"
   ]
  },
  {
   "cell_type": "markdown",
   "id": "f22feae2",
   "metadata": {},
   "source": [
    "## `WC Bit Weight (klb)`"
   ]
  },
  {
   "cell_type": "markdown",
   "id": "f2c2ccd4",
   "metadata": {},
   "source": [
    "### **Train 1**"
   ]
  },
  {
   "cell_type": "code",
   "execution_count": null,
   "id": "5ae86f01",
   "metadata": {},
   "outputs": [],
   "source": [
    "px.line(ph2_training_datasets[\"ph2_training_dataset_1\"]['WC Bit Weight (klb)'])"
   ]
  },
  {
   "cell_type": "markdown",
   "id": "6e42110b",
   "metadata": {},
   "source": [
    "### **Train 2**"
   ]
  },
  {
   "cell_type": "code",
   "execution_count": null,
   "id": "13e35e51",
   "metadata": {},
   "outputs": [],
   "source": [
    "px.line(ph2_training_datasets[\"ph2_training_dataset_2\"]['WC Bit Weight (klb)'])"
   ]
  },
  {
   "cell_type": "markdown",
   "id": "9519fda6",
   "metadata": {},
   "source": [
    "### **Test 1**"
   ]
  },
  {
   "cell_type": "code",
   "execution_count": null,
   "id": "1d860115",
   "metadata": {},
   "outputs": [],
   "source": [
    "px.line(ph2_test_datasets[\"ph2_test_1\"]['WC Bit Weight (klb)'])"
   ]
  },
  {
   "cell_type": "markdown",
   "id": "a240460a",
   "metadata": {},
   "source": [
    "### **Test 2**"
   ]
  },
  {
   "cell_type": "code",
   "execution_count": null,
   "id": "0a1ed1db",
   "metadata": {},
   "outputs": [],
   "source": [
    "px.line(ph2_test_datasets[\"ph2_test_2\"]['WC Bit Weight (klb)'])"
   ]
  },
  {
   "cell_type": "markdown",
   "id": "b96c4b7d",
   "metadata": {},
   "source": [
    "## `Washout Factor ()`"
   ]
  },
  {
   "cell_type": "markdown",
   "id": "229ba0c6",
   "metadata": {},
   "source": [
    "### **Train 1**"
   ]
  },
  {
   "cell_type": "code",
   "execution_count": null,
   "id": "34d3540b",
   "metadata": {},
   "outputs": [],
   "source": [
    "px.line(ph2_training_datasets[\"ph2_training_dataset_1\"]['Washout Factor ()'])"
   ]
  },
  {
   "cell_type": "markdown",
   "id": "5657085f",
   "metadata": {},
   "source": [
    "### **Train 2**"
   ]
  },
  {
   "cell_type": "code",
   "execution_count": null,
   "id": "ba8b72fc",
   "metadata": {},
   "outputs": [],
   "source": [
    "px.line(ph2_training_datasets[\"ph2_training_dataset_2\"]['Washout Factor ()'])"
   ]
  },
  {
   "cell_type": "markdown",
   "id": "93a6805d",
   "metadata": {},
   "source": [
    "### **Test 1**"
   ]
  },
  {
   "cell_type": "code",
   "execution_count": null,
   "id": "5932d94e",
   "metadata": {},
   "outputs": [],
   "source": [
    "px.line(ph2_test_datasets[\"ph2_test_1\"]['Washout Factor ()'])"
   ]
  },
  {
   "cell_type": "markdown",
   "id": "c13f4f0e",
   "metadata": {},
   "source": [
    "### **Test 2**"
   ]
  },
  {
   "cell_type": "code",
   "execution_count": null,
   "id": "c1ed9916",
   "metadata": {},
   "outputs": [],
   "source": [
    "px.line(ph2_test_datasets[\"ph2_test_2\"]['Washout Factor ()'])"
   ]
  },
  {
   "cell_type": "markdown",
   "id": "4870f8b5",
   "metadata": {},
   "source": [
    "## `ML_mud_temp_grad`"
   ]
  },
  {
   "cell_type": "markdown",
   "id": "d322b66e",
   "metadata": {},
   "source": [
    "### **Train 1**"
   ]
  },
  {
   "cell_type": "code",
   "execution_count": null,
   "id": "43c3cf79",
   "metadata": {},
   "outputs": [],
   "source": [
    "px.line(ph2_training_datasets[\"ph2_training_dataset_1\"]['ML_mud_temp_grad'])"
   ]
  },
  {
   "cell_type": "code",
   "execution_count": null,
   "id": "e88f0a5b",
   "metadata": {},
   "outputs": [],
   "source": [
    "ph2_training_datasets[\"ph2_training_dataset_1\"].loc[(ph2_training_datasets[\"ph2_training_dataset_1\"]['ML_mud_temp_grad'] < 10) & (ph2_training_datasets[\"ph2_training_dataset_1\"].index > 5000), 'ML_mud_temp_grad'] = np.nan\n",
    "ph2_training_datasets[\"ph2_training_dataset_1\"].loc[:, 'ML_mud_temp_grad'] = ph2_training_datasets[\"ph2_training_dataset_1\"]['ML_mud_temp_grad'].ffill()"
   ]
  },
  {
   "cell_type": "code",
   "execution_count": null,
   "id": "81db5374",
   "metadata": {},
   "outputs": [],
   "source": [
    "px.line(ph2_training_datasets[\"ph2_training_dataset_1\"]['ML_mud_temp_grad'])"
   ]
  },
  {
   "cell_type": "markdown",
   "id": "1b3748e8",
   "metadata": {},
   "source": [
    "### **Train 2**"
   ]
  },
  {
   "cell_type": "code",
   "execution_count": null,
   "id": "8bab6da2",
   "metadata": {},
   "outputs": [],
   "source": [
    "px.line(ph2_training_datasets[\"ph2_training_dataset_2\"]['ML_mud_temp_grad'])"
   ]
  },
  {
   "cell_type": "code",
   "execution_count": null,
   "id": "c7dbb4b5",
   "metadata": {},
   "outputs": [],
   "source": [
    "ph2_training_datasets[\"ph2_training_dataset_2\"].loc[(ph2_training_datasets[\"ph2_training_dataset_2\"]['ML_mud_temp_grad'] < 19) , 'ML_mud_temp_grad'] = np.nan\n",
    "ph2_training_datasets[\"ph2_training_dataset_2\"].loc[:, 'ML_mud_temp_grad'] = ph2_training_datasets[\"ph2_training_dataset_2\"]['ML_mud_temp_grad'].ffill()"
   ]
  },
  {
   "cell_type": "code",
   "execution_count": null,
   "id": "05486618",
   "metadata": {},
   "outputs": [],
   "source": [
    "px.line(ph2_training_datasets[\"ph2_training_dataset_2\"]['ML_mud_temp_grad'])"
   ]
  },
  {
   "cell_type": "markdown",
   "id": "2b6bd622",
   "metadata": {},
   "source": [
    "### **Test 1**"
   ]
  },
  {
   "cell_type": "code",
   "execution_count": null,
   "id": "706b19e7",
   "metadata": {},
   "outputs": [],
   "source": [
    "px.line(ph2_test_datasets[\"ph2_test_1\"]['ML_mud_temp_grad'])"
   ]
  },
  {
   "cell_type": "code",
   "execution_count": null,
   "id": "9c672a3a",
   "metadata": {},
   "outputs": [],
   "source": [
    "ph2_test_datasets[\"ph2_test_1\"].loc[(ph2_test_datasets[\"ph2_test_1\"]['ML_mud_temp_grad'] < 9) , 'ML_mud_temp_grad'] = np.nan\n",
    "ph2_test_datasets[\"ph2_test_1\"].loc[:, 'ML_mud_temp_grad'] = ph2_test_datasets[\"ph2_test_1\"]['ML_mud_temp_grad'].ffill()"
   ]
  },
  {
   "cell_type": "code",
   "execution_count": null,
   "id": "facb18dc",
   "metadata": {},
   "outputs": [],
   "source": [
    "px.line(ph2_test_datasets[\"ph2_test_1\"]['ML_mud_temp_grad'])"
   ]
  },
  {
   "cell_type": "markdown",
   "id": "46eec951",
   "metadata": {},
   "source": [
    "### **Test 2**"
   ]
  },
  {
   "cell_type": "code",
   "execution_count": null,
   "id": "49e4af28",
   "metadata": {},
   "outputs": [],
   "source": [
    "px.line(ph2_test_datasets[\"ph2_test_2\"]['ML_mud_temp_grad'])"
   ]
  },
  {
   "cell_type": "markdown",
   "id": "57e100ae",
   "metadata": {},
   "source": [
    "# EDA after preproc"
   ]
  },
  {
   "cell_type": "markdown",
   "id": "2424de10",
   "metadata": {},
   "source": [
    "## First train df"
   ]
  },
  {
   "cell_type": "code",
   "execution_count": null,
   "id": "0e228e8f",
   "metadata": {},
   "outputs": [],
   "source": [
    "EDA(ph2_training_dataset_1, 'Bttm Pipe Temp (°F)')"
   ]
  },
  {
   "cell_type": "markdown",
   "id": "2046fe51",
   "metadata": {},
   "source": [
    "## Second train df"
   ]
  },
  {
   "cell_type": "code",
   "execution_count": null,
   "id": "085fa60c",
   "metadata": {},
   "outputs": [],
   "source": [
    "EDA(ph2_training_dataset_2, 'Bttm Pipe Temp (°F)')"
   ]
  },
  {
   "cell_type": "markdown",
   "id": "0e82f1d2",
   "metadata": {},
   "source": [
    "## First test df"
   ]
  },
  {
   "cell_type": "code",
   "execution_count": null,
   "id": "56f439f8",
   "metadata": {},
   "outputs": [],
   "source": [
    "#EDA(ph2_test_1, 'tvd')\n",
    "EDA(ph2_test_datasets[\"ph2_test_1\"], 'tvd')"
   ]
  },
  {
   "cell_type": "markdown",
   "id": "184a92d2",
   "metadata": {},
   "source": [
    "## Second test df"
   ]
  },
  {
   "cell_type": "code",
   "execution_count": null,
   "id": "91d693fd",
   "metadata": {},
   "outputs": [],
   "source": [
    "EDA(ph2_test_datasets[\"ph2_test_2\"], 'tvd')"
   ]
  },
  {
   "cell_type": "markdown",
   "id": "3a882a44",
   "metadata": {},
   "source": [
    "---"
   ]
  },
  {
   "cell_type": "markdown",
   "id": "3758aa95",
   "metadata": {},
   "source": [
    "# Final exploration"
   ]
  },
  {
   "cell_type": "markdown",
   "id": "b26dc5f4",
   "metadata": {},
   "source": [
    "## Circulating exp"
   ]
  },
  {
   "cell_type": "code",
   "execution_count": null,
   "id": "7c056f0b",
   "metadata": {},
   "outputs": [],
   "source": [
    "Circulating_exploration(ph2_training_dataset_1, ph2_test_1)\n",
    "Circulating_exploration(ph2_training_dataset_2, ph2_test_2)"
   ]
  },
  {
   "cell_type": "markdown",
   "id": "b0ef7498",
   "metadata": {},
   "source": [
    "## Final all data exploration"
   ]
  },
  {
   "cell_type": "code",
   "execution_count": null,
   "id": "a9fc8cc7",
   "metadata": {},
   "outputs": [],
   "source": [
    "for name, df in ph2_training_datasets.items():\n",
    "    melted_df = df.melt()\n",
    "    fig = px.box(melted_df, x='variable', y=\"value\", title=f\"Boxplot for {name}\")\n",
    "    fig.show()"
   ]
  },
  {
   "cell_type": "code",
   "execution_count": null,
   "id": "e32e2c55",
   "metadata": {},
   "outputs": [],
   "source": [
    "for name, df in ph2_test_datasets.items():\n",
    "    melted_df = df.melt()\n",
    "    fig = px.box(melted_df, x='variable', y=\"value\", title=f\"Boxplot for {name}\")\n",
    "    fig.show()"
   ]
  },
  {
   "cell_type": "markdown",
   "id": "c05bb844",
   "metadata": {},
   "source": [
    "# Unification all train ds"
   ]
  },
  {
   "cell_type": "markdown",
   "id": "9cc23d14",
   "metadata": {},
   "source": [
    "Т.к. мы объединяем данные есть смысл провести корреляционный анализ после объединения всех трейновых данных "
   ]
  },
  {
   "cell_type": "markdown",
   "id": "deda7f61",
   "metadata": {},
   "source": [
    "Объясняем, что для каждого датасета берем как тестовую выборку до -500 "
   ]
  },
  {
   "cell_type": "code",
   "execution_count": null,
   "id": "de59abd2",
   "metadata": {},
   "outputs": [],
   "source": [
    "# Concatenating all training datasets\n",
    "all_train_df = pd.concat([\n",
    "    training_dataset_1_important, \n",
    "    training_dataset_2_important, \n",
    "    training_dataset_3_important, \n",
    "    ph2_training_datasets[\"ph2_training_dataset_1\"], \n",
    "    ph2_training_datasets[\"ph2_training_dataset_2\"]\n",
    "], axis=0).reset_index(drop=True)\n",
    "\n",
    "# Cut-off value\n",
    "cut_value = 500\n",
    "\n",
    "# Calculate cut-off indices\n",
    "cut_1 = len(training_dataset_1_important) - cut_value\n",
    "cut_2 = len(training_dataset_2_important) - cut_value\n",
    "cut_3 = len(training_dataset_3_important) - cut_value\n",
    "cut_4 = len(ph2_training_datasets[\"ph2_training_dataset_1\"]) - cut_value\n",
    "cut_5 = len(ph2_training_datasets[\"ph2_training_dataset_2\"]) - cut_value\n",
    "\n",
    "# Creating training set (excluding last `cut_value` rows)\n",
    "cut_train_data = pd.concat([\n",
    "    training_dataset_1_important[training_dataset_1_important.index < cut_1], \n",
    "    training_dataset_2_important[training_dataset_2_important.index < cut_2], \n",
    "    training_dataset_3_important[training_dataset_3_important.index < cut_3],\n",
    "    ph2_training_datasets[\"ph2_training_dataset_1\"][ph2_training_datasets[\"ph2_training_dataset_1\"].index < cut_4],\n",
    "    ph2_training_datasets[\"ph2_training_dataset_2\"][ph2_training_datasets[\"ph2_training_dataset_2\"].index < cut_5]\n",
    "], axis=0).reset_index(drop=True)\n",
    "\n",
    "# Creating test sets (last `cut_value` rows)\n",
    "cut_test_1 = training_dataset_1_important[training_dataset_1_important.index >= cut_1]\n",
    "cut_test_2 = training_dataset_2_important[training_dataset_2_important.index >= cut_2]\n",
    "cut_test_3 = training_dataset_3_important[training_dataset_3_important.index >= cut_3]\n",
    "cut_test_4 = ph2_training_datasets[\"ph2_training_dataset_1\"][ph2_training_datasets[\"ph2_training_dataset_1\"].index >= cut_4]\n",
    "cut_test_5 = ph2_training_datasets[\"ph2_training_dataset_2\"][ph2_training_datasets[\"ph2_training_dataset_2\"].index >= cut_5]\n"
   ]
  },
  {
   "cell_type": "code",
   "execution_count": null,
   "id": "53bd0182",
   "metadata": {},
   "outputs": [],
   "source": [
    "correlation(cut_train_data, cut_train_data.columns)"
   ]
  },
  {
   "cell_type": "markdown",
   "id": "c7377751",
   "metadata": {},
   "source": [
    "**There is no Multicollinearity**"
   ]
  },
  {
   "cell_type": "markdown",
   "id": "952f9a57",
   "metadata": {},
   "source": [
    "# Using ML, pipeline, "
   ]
  },
  {
   "cell_type": "code",
   "execution_count": null,
   "id": "945447f8",
   "metadata": {},
   "outputs": [],
   "source": [
    "def X_y(df, name_y = 'Bttm Pipe Temp (°F)'):\n",
    "    X = df.drop(columns=name_y, axis=1)\n",
    "    y = df[name_y]\n",
    "    return X, y"
   ]
  },
  {
   "cell_type": "code",
   "execution_count": null,
   "id": "d416e053",
   "metadata": {},
   "outputs": [],
   "source": [
    "X_train, y_train = X_y(cut_train_data)\n",
    "\n",
    "X_test_1, y_test_1 = X_y(cut_test_1)\n",
    "X_test_2, y_test_2 = X_y(cut_test_2)\n",
    "X_test_3, y_test_3 = X_y(cut_test_3)\n",
    "X_test_4, y_test_4 = X_y(cut_test_4)\n",
    "X_test_5, y_test_5 = X_y(cut_test_5)"
   ]
  },
  {
   "cell_type": "code",
   "execution_count": null,
   "id": "0d4bcf61",
   "metadata": {},
   "outputs": [],
   "source": [
    "ord_columns = ['Co. Man G/L (bbl)']\n",
    "num_columns = list(X_train.columns)\n",
    "num_columns.remove('Co. Man G/L (bbl)')"
   ]
  },
  {
   "cell_type": "code",
   "execution_count": null,
   "id": "6bfa6c65",
   "metadata": {},
   "outputs": [],
   "source": [
    "RANDOM_STATE =4242"
   ]
  },
  {
   "cell_type": "code",
   "execution_count": null,
   "id": "7acb5dc6",
   "metadata": {},
   "outputs": [],
   "source": [
    "data_preprocessor = ColumnTransformer (\n",
    "    [\n",
    "        ('num', StandardScaler(), num_columns),\n",
    "        ('ord', 'passthrough', ord_columns)\n",
    "    ],\n",
    "    remainder='passthrough'\n",
    ")\n",
    "\n",
    "pipeline = Pipeline ([\n",
    "    ('preprocessor', data_preprocessor),\n",
    "    ('model', RandomForestRegressor(random_state=RANDOM_STATE))  \n",
    "])"
   ]
  },
  {
   "cell_type": "code",
   "execution_count": null,
   "id": "51c4473d",
   "metadata": {},
   "outputs": [],
   "source": [
    "param_grid_random_forest = [\n",
    "        {\n",
    "    'model': [RandomForestRegressor(random_state=RANDOM_STATE)],\n",
    "    'model__n_estimators': [50, 100, 200, 300]\n",
    "    # ,\n",
    "    # 'model__max_depth': range(2, 20, 4),\n",
    "    # 'model__min_samples_split': [2, 5, 10, 15],\n",
    "    # 'model__min_samples_leaf': [1, 2, 4, 8]\n",
    "    }\n",
    "    ]\n",
    "\n",
    "param_grid_LGBM = [\n",
    "    {\n",
    "    'model': [LGBMRegressor()],\n",
    "    'model__max_depth': [10, 50, 100]\n",
    "    # ,\n",
    "    # 'model__num_leaves': [50, 100, 150],\n",
    "    # 'model__learning_rate': [0.01, 0.1, 0.2],\n",
    "    # 'model__n_estimators': [100, 500, 1000]\n",
    "    }\n",
    "    ]\n",
    "\n",
    "param_grid_catboost = [\n",
    "    {\n",
    "    'model': [CatBoostRegressor(random_seed=RANDOM_STATE)],\n",
    "    'model__depth': range(1, 12, 2)\n",
    "    # ,\n",
    "    # 'model__iterations': [50, 150, 300, 500],\n",
    "    # 'model__learning_rate': [0.001, 0.01, 0.05, 0.1]\n",
    "    }    \n",
    "    ]"
   ]
  },
  {
   "cell_type": "code",
   "execution_count": null,
   "id": "a0edb39a",
   "metadata": {},
   "outputs": [],
   "source": [
    "gs_RF = GridSearchCV(estimator = pipeline,\n",
    "                 param_grid = param_grid_random_forest,\n",
    "                 scoring = 'neg_root_mean_squared_error',\n",
    "                 cv=5,\n",
    "                 n_jobs = -1)\n",
    "\n",
    "gs_LGBM = GridSearchCV(estimator = pipeline,\n",
    "                 param_grid = param_grid_LGBM,\n",
    "                 scoring = 'neg_root_mean_squared_error',\n",
    "                 cv=5,\n",
    "                 n_jobs = -1)\n",
    "\n",
    "gs_catboost = GridSearchCV(estimator = pipeline,\n",
    "                 param_grid = param_grid_catboost,\n",
    "                 scoring = 'neg_root_mean_squared_error',\n",
    "                 cv=5,\n",
    "                 n_jobs = -1)"
   ]
  },
  {
   "cell_type": "code",
   "execution_count": null,
   "id": "0fb5c30d",
   "metadata": {},
   "outputs": [],
   "source": [
    "gs_RF.fit (X_train, y_train)"
   ]
  },
  {
   "cell_type": "code",
   "execution_count": null,
   "id": "780d197a",
   "metadata": {},
   "outputs": [],
   "source": [
    "gs_LGBM.fit (X_train, y_train)"
   ]
  },
  {
   "cell_type": "code",
   "execution_count": null,
   "id": "c6d1bf50",
   "metadata": {},
   "outputs": [],
   "source": [
    "gs_catboost.fit (X_train, y_train)"
   ]
  },
  {
   "cell_type": "code",
   "execution_count": null,
   "id": "1d2badc4",
   "metadata": {},
   "outputs": [],
   "source": [
    "best_RF = gs_RF.best_estimator_\n",
    "best_LGBM = gs_LGBM.best_estimator_\n",
    "best_catboost = gs_catboost.best_estimator_"
   ]
  },
  {
   "cell_type": "code",
   "execution_count": null,
   "id": "20c38fe6",
   "metadata": {},
   "outputs": [],
   "source": [
    "display(f'RandomForest - {(-1) * gs_RF.best_score_}')\n",
    "display(f'LGBM - {(-1) * gs_LGBM.best_score_}')\n",
    "display(f'CatBoost - {(-1) * gs_catboost.best_score_}')"
   ]
  },
  {
   "cell_type": "code",
   "execution_count": null,
   "id": "1bc6eedf",
   "metadata": {},
   "outputs": [],
   "source": [
    "def prediction(estimator):\n",
    "    y_pred_1 = estimator.predict(X_test_1)\n",
    "    y_pred_2 = estimator.predict(X_test_2)\n",
    "    y_pred_3 = estimator.predict(X_test_3)\n",
    "    y_pred_4 = estimator.predict(X_test_4)\n",
    "    y_pred_5 = estimator.predict(X_test_5)\n",
    "\n",
    "    metric_data = []\n",
    "    for pred, test in zip([y_pred_1, y_pred_2, y_pred_3, y_pred_4, y_pred_5], [y_test_1, y_test_2, y_test_3, y_test_4, y_test_5]):\n",
    "        metric = root_mean_squared_error(pred, test)\n",
    "        print(f'RMSE test data - {metric}')\n",
    "        metric_data.append(metric)\n",
    "        plt.plot(pred)\n",
    "        plt.plot(list(test))\n",
    "        plt.show()\n",
    "\n",
    "    return(y_pred_1, y_pred_2, y_pred_3, y_pred_4, y_pred_5, metric_data)"
   ]
  },
  {
   "cell_type": "code",
   "execution_count": null,
   "id": "66c80384",
   "metadata": {},
   "outputs": [],
   "source": [
    "RF_1, RF_2, RF_3, RF_4, RF_5, RF_metrics = prediction(best_RF)"
   ]
  },
  {
   "cell_type": "code",
   "execution_count": null,
   "id": "8bea0d05",
   "metadata": {},
   "outputs": [],
   "source": [
    "LGBM_1, LGBM_2, LGBM_3, LGBM_4, LGBM_5, LGBM_metrics = prediction(best_LGBM)"
   ]
  },
  {
   "cell_type": "code",
   "execution_count": null,
   "id": "a7bb7085",
   "metadata": {},
   "outputs": [],
   "source": [
    "CB_1, CB_2, CB_3, CB_4, CB_5, CB_metrics = prediction(best_catboost)"
   ]
  },
  {
   "cell_type": "code",
   "execution_count": null,
   "id": "5e1c17ec",
   "metadata": {},
   "outputs": [],
   "source": [
    "RF_metrics = pd.DataFrame(RF_metrics, columns=['RF'])\n",
    "LGBM_metrics = pd.DataFrame(LGBM_metrics, columns=['LGBM'])\n",
    "CB_metrics = pd.DataFrame(CB_metrics, columns=['CB'])\n",
    "\n",
    "all_metrics = pd.concat([RF_metrics, LGBM_metrics, CB_metrics], axis=1)\n",
    "all_metrics"
   ]
  },
  {
   "cell_type": "code",
   "execution_count": null,
   "id": "1a563edb",
   "metadata": {},
   "outputs": [],
   "source": [
    "list_RF_predictions = [RF_1, RF_2, RF_3, RF_4, RF_5]\n",
    "list_LGBM_predictions = [LGBM_1, LGBM_2, LGBM_3, LGBM_4, LGBM_5]\n",
    "list_CB_predictions = [CB_1, CB_2, CB_3, CB_4, CB_5]"
   ]
  },
  {
   "cell_type": "code",
   "execution_count": null,
   "id": "ad652b5b",
   "metadata": {},
   "outputs": [],
   "source": [
    "CB_LGBM_pred = [(i + j) / 2 for i, j in zip(list_LGBM_predictions, list_CB_predictions)]\n",
    "\n",
    "metric_CB_LGBM = []\n",
    "for pred, target in zip(CB_LGBM_pred, [y_test_1, y_test_2, y_test_3, y_test_4, y_test_5]):\n",
    "    metric = root_mean_squared_error(pred, target)\n",
    "    print(f'RMSE test data - {metric}')\n",
    "    metric_CB_LGBM.append(metric)\n",
    "    plt.plot(pred)\n",
    "    plt.plot(list(target))\n",
    "    plt.show()\n",
    "\n",
    "metric_CB_LGBM = pd.DataFrame(metric_CB_LGBM, columns=['LGBM_CB'])\n",
    "all_metrics = pd.concat([all_metrics, metric_CB_LGBM], axis=1)\n",
    "all_metrics"
   ]
  },
  {
   "cell_type": "code",
   "execution_count": null,
   "id": "3d1fcd84",
   "metadata": {},
   "outputs": [],
   "source": [
    "RF_LGBM_pred = [(i + j) / 2 for i, j in zip(list_LGBM_predictions, list_RF_predictions)]\n",
    "\n",
    "metric_RF_LGBM = []\n",
    "for pred, target in zip(RF_LGBM_pred, [y_test_1, y_test_2, y_test_3, y_test_4, y_test_5]):\n",
    "    metric = root_mean_squared_error(pred, target)\n",
    "    print(f'RMSE test data - {metric}')\n",
    "    metric_RF_LGBM.append(metric)\n",
    "    plt.plot(pred)\n",
    "    plt.plot(list(target))\n",
    "    plt.show()\n",
    "\n",
    "metric_RF_LGBM = pd.DataFrame(metric_RF_LGBM, columns=['LGBM_RF'])\n",
    "all_metrics = pd.concat([all_metrics, metric_RF_LGBM], axis=1)\n",
    "all_metrics"
   ]
  },
  {
   "cell_type": "code",
   "execution_count": null,
   "id": "7c665af7",
   "metadata": {},
   "outputs": [],
   "source": [
    "RF_CB_LGBM_pred = [(i + j + k) / 3 for i, j, k in zip(list_LGBM_predictions, list_CB_predictions, list_RF_predictions)]\n",
    "\n",
    "metric_CB_LGBM_RF = []\n",
    "for pred, target in zip(RF_CB_LGBM_pred, [y_test_1, y_test_2, y_test_3, y_test_4, y_test_5]):\n",
    "    metric = root_mean_squared_error(pred, target)\n",
    "    print(f'RMSE test data - {metric}')\n",
    "    metric_CB_LGBM_RF.append(metric)\n",
    "    plt.plot(pred)\n",
    "    plt.plot(list(target))\n",
    "    plt.show()\n",
    "\n",
    "metric_CB_LGBM_RF = pd.DataFrame(metric_CB_LGBM_RF, columns=['RF_LGBM_CB'])\n",
    "all_metrics = pd.concat([all_metrics, metric_CB_LGBM_RF], axis=1)"
   ]
  },
  {
   "cell_type": "code",
   "execution_count": null,
   "id": "663450ae",
   "metadata": {},
   "outputs": [],
   "source": [
    "all_metrics"
   ]
  },
  {
   "cell_type": "code",
   "execution_count": null,
   "id": "1c6ad1d7",
   "metadata": {},
   "outputs": [],
   "source": [
    "all_metrics.mean()"
   ]
  },
  {
   "cell_type": "code",
   "execution_count": null,
   "id": "8bac02f7",
   "metadata": {},
   "outputs": [],
   "source": [
    "import pandas as pd\n",
    "import numpy as np\n",
    "\n",
    "training_dataset_1 = pd.read_csv(\"phase_2/FineTune_Test_dataset_1.csv\")\n",
    "df_half = training_dataset_1.copy()\n",
    "df_half['Depth(ft)'] += 0.5  # Shi'AI\\ Oilers.ipynbft depth by 0.5 to create midpoints\n",
    "\n",
    "# Concatenate and sort the DataFrame\n",
    "df_interpolated = pd.concat([df, df_half]).sort_values('Depth(ft)').reset_index(drop=True)"
   ]
  },
  {
   "cell_type": "code",
   "execution_count": null,
   "id": "5a9632a1",
   "metadata": {},
   "outputs": [],
   "source": [
    "# new_depths = np.arange(df_half['Depth(ft)'].min(), df_half['Depth(ft)'].max(), 0.5)\n",
    "\n",
    "# # Reindex DataFrame with new depth values\n",
    "# df_interpolated = new_depths.set_index('Depth(ft)').reindex(new_depths).interpolate().reset_index()"
   ]
  },
  {
   "cell_type": "code",
   "execution_count": null,
   "id": "478a4a56",
   "metadata": {},
   "outputs": [],
   "source": [
    "import numpy as np\n",
    "import pandas as pd\n",
    "\n",
    "# Create new depth values\n",
    "new_depths = np.arange(df_half['Depth(ft)'].min(), df_half['Depth(ft)'].max(), 0.5)\n",
    "\n",
    "# Convert to DataFrame\n",
    "new_depths_df = pd.DataFrame(new_depths, columns=['Depth(ft)'])\n",
    "\n",
    "# Perform interpolation\n",
    "df_interpolated = (\n",
    "    df_half.set_index('Depth(ft)')   # Set original index\n",
    "    .reindex(new_depths_df['Depth(ft)'])  # Reindex with new depths\n",
    "    .interpolate()  # Interpolate missing values\n",
    "    .reset_index()  # Reset index\n",
    ")\n",
    "\n",
    "print(df_interpolated)\n"
   ]
  },
  {
   "cell_type": "code",
   "execution_count": null,
   "id": "c3d1822b",
   "metadata": {},
   "outputs": [],
   "source": [
    "display(df_interpolated['Depth(ft)'])"
   ]
  },
  {
   "cell_type": "markdown",
   "id": "5ac6c2f3",
   "metadata": {},
   "source": [
    "# Feature Importance"
   ]
  },
  {
   "cell_type": "code",
   "execution_count": null,
   "id": "95997cd0",
   "metadata": {},
   "outputs": [],
   "source": [
    "feature_names = num_columns + ord_columns\n",
    "\n",
    "rf_importances = plot_feature_importances(gs_RF, 'RandomForest', feature_names)\n",
    "lgbm_importances = plot_feature_importances(gs_LGBM, 'LGBM', feature_names)\n",
    "catboost_importances = plot_feature_importances(gs_catboost, 'CatBoost', feature_names)"
   ]
  },
  {
   "cell_type": "markdown",
   "id": "bbaa20ba",
   "metadata": {},
   "source": [
    "# Blind Prediction"
   ]
  },
  {
   "cell_type": "code",
   "execution_count": null,
   "id": "b5948d86",
   "metadata": {},
   "outputs": [],
   "source": [
    "ph2_blind_form_1 = pd.read_csv(\"phase_2/phase2_blind_test_predictions_1.csv\")\n",
    "ph2_blind_form_2 = pd.read_csv(\"phase_2/phase2_blind_test_predictions_2.csv\")\n",
    "\n",
    "columns = ph2_blind_form_2.columns\n",
    "\n",
    "X_train_all = all_train_df.drop(columns='Bttm Pipe Temp (°F)', axis=1)\n",
    "y_train_all = all_train_df['Bttm Pipe Temp (°F)']\n",
    "\n",
    "best_RF.fit(X_train_all, y_train_all)\n",
    "best_LGBM.fit(X_train_all, y_train_all)\n",
    "best_catboost.fit(X_train_all, y_train_all)"
   ]
  },
  {
   "cell_type": "code",
   "execution_count": null,
   "id": "497f67cd",
   "metadata": {},
   "outputs": [],
   "source": [
    "ph2_blind_form_1_pred = blind_prediction(ph2_test_datasets[\"ph2_test_1\"], best_RF, best_LGBM, best_catboost, ph2_blind_form_1)"
   ]
  },
  {
   "cell_type": "code",
   "execution_count": null,
   "id": "2678a4f6",
   "metadata": {},
   "outputs": [],
   "source": [
    "ph2_blind_form_2_pred = blind_prediction(ph2_test_datasets[\"ph2_test_2\"], best_RF, best_LGBM, best_catboost, ph2_blind_form_2)"
   ]
  },
  {
   "cell_type": "code",
   "execution_count": null,
   "id": "fddaa21f",
   "metadata": {},
   "outputs": [],
   "source": [
    "ph2_blind_form_1_pred.to_csv('ph2_blind_test_predictions_11.csv', index=False)\n",
    "ph2_blind_form_2_pred.to_csv('ph2_blind_test_predictions_22.csv', index=False)\n"
   ]
  },
  {
   "cell_type": "code",
   "execution_count": null,
   "id": "ecae4f04",
   "metadata": {},
   "outputs": [],
   "source": []
  }
 ],
 "metadata": {
  "kernelspec": {
   "display_name": "Python 3 (ipykernel)",
   "language": "python",
   "name": "python3"
  },
  "language_info": {
   "codemirror_mode": {
    "name": "ipython",
    "version": 3
   },
   "file_extension": ".py",
   "mimetype": "text/x-python",
   "name": "python",
   "nbconvert_exporter": "python",
   "pygments_lexer": "ipython3",
   "version": "3.12.4"
  }
 },
 "nbformat": 4,
 "nbformat_minor": 5
}
