{
 "cells": [
  {
   "cell_type": "markdown",
   "id": "86ec9aa5-9274-4994-900a-4a8750b88cfb",
   "metadata": {},
   "source": [
    "# Предполагаемые шаги"
   ]
  },
  {
   "cell_type": "markdown",
   "id": "ebc44192-ac7d-4f20-9d2d-1f20803a38be",
   "metadata": {},
   "source": [
    "1. просуммировать помесячно количество денег и попробавть предсказать на основе этого\n",
    "2. Оставить деньги на ежедневной основе\n",
    "3. Попробовать раскурить идею с МСС кодом, поскольку это классификация основных транзакций => что может передать некоторый патерн персонажа"
   ]
  },
  {
   "cell_type": "markdown",
   "id": "68dedb28-2e49-4d32-853f-b6c4546c2129",
   "metadata": {},
   "source": [
    "# Импорт необходимых библиотек "
   ]
  },
  {
   "cell_type": "code",
   "execution_count": 4,
   "id": "a3471ad3-266a-451c-8d01-77470cd853f7",
   "metadata": {},
   "outputs": [],
   "source": [
    "!pip install xgboost -q\n",
    "!pip install lightgbm -q"
   ]
  },
  {
   "cell_type": "code",
   "execution_count": 5,
   "id": "53b0638e-1bff-4b26-af32-25cc187def4e",
   "metadata": {},
   "outputs": [],
   "source": [
    "import pandas as pd\n",
    "import numpy as np\n",
    "import seaborn as sns\n",
    "import matplotlib.pyplot as plt\n",
    "import plotly.express as px\n",
    "import phik\n",
    "\n",
    "from statsmodels.stats.outliers_influence import variance_inflation_factor\n",
    "from statsmodels.tools.tools import add_constant\n",
    "from sklearn.linear_model import LogisticRegression, LinearRegression\n",
    "from sklearn.model_selection import (StratifiedKFold, cross_validate, cross_val_score, train_test_split, GridSearchCV)\n",
    "from sklearn.metrics import make_scorer, f1_score\n",
    "from sklearn.preprocessing import OneHotEncoder, OrdinalEncoder, StandardScaler\n",
    "from sklearn.impute import SimpleImputer\n",
    "from sklearn.pipeline import Pipeline\n",
    "from sklearn.compose import ColumnTransformer\n",
    "from sklearn.ensemble import RandomForestRegressor\n",
    "from catboost import CatBoostClassifier\n",
    "from xgboost import XGBClassifier\n",
    "from lightgbm import LGBMClassifier\n",
    "from sklearn.ensemble import RandomForestClassifier"
   ]
  },
  {
   "cell_type": "code",
   "execution_count": 6,
   "id": "0dbd7ae9-3c09-4160-99d8-6bcba15e5b02",
   "metadata": {},
   "outputs": [],
   "source": [
    "RANDOM_STATE = 413241"
   ]
  },
  {
   "cell_type": "markdown",
   "id": "e80f1f09-2807-4847-acbd-9c86f932f756",
   "metadata": {},
   "source": [
    "# Чтение файлов"
   ]
  },
  {
   "cell_type": "code",
   "execution_count": 8,
   "id": "3e61979e-3f4a-458d-bd89-21407a52a683",
   "metadata": {},
   "outputs": [],
   "source": [
    "df = pd.read_parquet(\"df_transaction.pa\")\n",
    "train = pd.read_parquet(\"train.pa\")"
   ]
  },
  {
   "cell_type": "code",
   "execution_count": 9,
   "id": "1ec389f1-9c52-4ce7-b742-c66730c5d70e",
   "metadata": {},
   "outputs": [],
   "source": [
    "data_iter_1 = df[['client_num', 'date_time', 'amount']].copy()\n",
    "train_1 = train.copy()"
   ]
  },
  {
   "cell_type": "code",
   "execution_count": 10,
   "id": "9aca99b4-c3a4-43df-b39d-3fc3fbc4b939",
   "metadata": {},
   "outputs": [],
   "source": [
    "data_iter_1['date_time'] = pd.to_datetime(data_iter_1['date_time']).dt.month"
   ]
  },
  {
   "cell_type": "code",
   "execution_count": 11,
   "id": "2c000f65-c400-4d95-8fae-ca0f3b4cbab7",
   "metadata": {},
   "outputs": [
    {
     "data": {
      "text/html": [
       "<div>\n",
       "<style scoped>\n",
       "    .dataframe tbody tr th:only-of-type {\n",
       "        vertical-align: middle;\n",
       "    }\n",
       "\n",
       "    .dataframe tbody tr th {\n",
       "        vertical-align: top;\n",
       "    }\n",
       "\n",
       "    .dataframe thead th {\n",
       "        text-align: right;\n",
       "    }\n",
       "</style>\n",
       "<table border=\"1\" class=\"dataframe\">\n",
       "  <thead>\n",
       "    <tr style=\"text-align: right;\">\n",
       "      <th></th>\n",
       "      <th>client_num</th>\n",
       "      <th>date_time</th>\n",
       "      <th>amount</th>\n",
       "    </tr>\n",
       "  </thead>\n",
       "  <tbody>\n",
       "    <tr>\n",
       "      <th>0</th>\n",
       "      <td>0</td>\n",
       "      <td>7</td>\n",
       "      <td>2900</td>\n",
       "    </tr>\n",
       "    <tr>\n",
       "      <th>1</th>\n",
       "      <td>0</td>\n",
       "      <td>7</td>\n",
       "      <td>455</td>\n",
       "    </tr>\n",
       "    <tr>\n",
       "      <th>2</th>\n",
       "      <td>0</td>\n",
       "      <td>7</td>\n",
       "      <td>1003</td>\n",
       "    </tr>\n",
       "    <tr>\n",
       "      <th>3</th>\n",
       "      <td>0</td>\n",
       "      <td>7</td>\n",
       "      <td>1480</td>\n",
       "    </tr>\n",
       "    <tr>\n",
       "      <th>4</th>\n",
       "      <td>0</td>\n",
       "      <td>7</td>\n",
       "      <td>88</td>\n",
       "    </tr>\n",
       "  </tbody>\n",
       "</table>\n",
       "</div>"
      ],
      "text/plain": [
       "   client_num  date_time  amount\n",
       "0           0          7    2900\n",
       "1           0          7     455\n",
       "2           0          7    1003\n",
       "3           0          7    1480\n",
       "4           0          7      88"
      ]
     },
     "execution_count": 11,
     "metadata": {},
     "output_type": "execute_result"
    }
   ],
   "source": [
    "data_iter_1.head()"
   ]
  },
  {
   "cell_type": "code",
   "execution_count": 12,
   "id": "6f0360be-d83c-4be0-aa6a-86da32ac748b",
   "metadata": {},
   "outputs": [],
   "source": [
    "pivot_data_iter_1 = data_iter_1.pivot_table(columns='date_time', index='client_num', aggfunc='sum').reset_index()\n",
    "pivot_data_iter_1.columns = pivot_data_iter_1.columns.droplevel()"
   ]
  },
  {
   "cell_type": "code",
   "execution_count": 13,
   "id": "3eb76e8b-06b1-47c2-943c-87c5dd25d99f",
   "metadata": {
    "scrolled": true
   },
   "outputs": [],
   "source": [
    "pivot_data_iter_1 = pivot_data_iter_1.rename(columns={'' : 'client_num'})"
   ]
  },
  {
   "cell_type": "code",
   "execution_count": 14,
   "id": "c8f402a4-3f0b-4c96-aa63-ddeec4f37bf3",
   "metadata": {},
   "outputs": [
    {
     "name": "stdout",
     "output_type": "stream",
     "text": [
      "<class 'pandas.core.frame.DataFrame'>\n",
      "RangeIndex: 109143 entries, 0 to 109142\n",
      "Data columns (total 5 columns):\n",
      " #   Column      Non-Null Count   Dtype  \n",
      "---  ------      --------------   -----  \n",
      " 0   client_num  109143 non-null  int64  \n",
      " 1   7           95267 non-null   float64\n",
      " 2   8           101294 non-null  float64\n",
      " 3   9           102025 non-null  float64\n",
      " 4   10          4 non-null       float64\n",
      "dtypes: float64(4), int64(1)\n",
      "memory usage: 4.2 MB\n"
     ]
    }
   ],
   "source": [
    "pivot_data_iter_1.info()"
   ]
  },
  {
   "cell_type": "code",
   "execution_count": 15,
   "id": "794de06e-dd22-4131-be5f-e744c3764225",
   "metadata": {},
   "outputs": [],
   "source": [
    "pivot_data_iter_1 = pivot_data_iter_1.drop(columns = 10, axis =1)"
   ]
  },
  {
   "cell_type": "code",
   "execution_count": 16,
   "id": "2bc6f560-2dbd-4ca7-bbb7-205f8c50351d",
   "metadata": {},
   "outputs": [
    {
     "data": {
      "text/html": [
       "<div>\n",
       "<style scoped>\n",
       "    .dataframe tbody tr th:only-of-type {\n",
       "        vertical-align: middle;\n",
       "    }\n",
       "\n",
       "    .dataframe tbody tr th {\n",
       "        vertical-align: top;\n",
       "    }\n",
       "\n",
       "    .dataframe thead th {\n",
       "        text-align: right;\n",
       "    }\n",
       "</style>\n",
       "<table border=\"1\" class=\"dataframe\">\n",
       "  <thead>\n",
       "    <tr style=\"text-align: right;\">\n",
       "      <th>date_time</th>\n",
       "      <th>client_num</th>\n",
       "      <th>7</th>\n",
       "      <th>8</th>\n",
       "      <th>9</th>\n",
       "    </tr>\n",
       "  </thead>\n",
       "  <tbody>\n",
       "    <tr>\n",
       "      <th>0</th>\n",
       "      <td>0</td>\n",
       "      <td>7261.0</td>\n",
       "      <td>56962.0</td>\n",
       "      <td>42712.0</td>\n",
       "    </tr>\n",
       "    <tr>\n",
       "      <th>1</th>\n",
       "      <td>1</td>\n",
       "      <td>422749.0</td>\n",
       "      <td>236673.0</td>\n",
       "      <td>204456.0</td>\n",
       "    </tr>\n",
       "    <tr>\n",
       "      <th>2</th>\n",
       "      <td>2</td>\n",
       "      <td>114647.0</td>\n",
       "      <td>80550.0</td>\n",
       "      <td>148911.0</td>\n",
       "    </tr>\n",
       "    <tr>\n",
       "      <th>3</th>\n",
       "      <td>3</td>\n",
       "      <td>1483913.0</td>\n",
       "      <td>68103.0</td>\n",
       "      <td>69809.0</td>\n",
       "    </tr>\n",
       "    <tr>\n",
       "      <th>4</th>\n",
       "      <td>4</td>\n",
       "      <td>91422.0</td>\n",
       "      <td>63710.0</td>\n",
       "      <td>44664.0</td>\n",
       "    </tr>\n",
       "  </tbody>\n",
       "</table>\n",
       "</div>"
      ],
      "text/plain": [
       "date_time  client_num          7         8         9\n",
       "0                   0     7261.0   56962.0   42712.0\n",
       "1                   1   422749.0  236673.0  204456.0\n",
       "2                   2   114647.0   80550.0  148911.0\n",
       "3                   3  1483913.0   68103.0   69809.0\n",
       "4                   4    91422.0   63710.0   44664.0"
      ]
     },
     "execution_count": 16,
     "metadata": {},
     "output_type": "execute_result"
    }
   ],
   "source": [
    "pivot_data_iter_1.head()"
   ]
  },
  {
   "cell_type": "markdown",
   "id": "bbc57fc6-53ab-4e66-93d9-98e65a3b6f9c",
   "metadata": {},
   "source": [
    "# Вторая итерация \n",
    "Проверяем следующую информацию по шагам. \n",
    "1. смотрим по датам\n",
    "2. к датам добавляем месячную трату\n",
    "3. каким то образом пытаемся внедрить CVM?????????????????????????"
   ]
  },
  {
   "cell_type": "code",
   "execution_count": 18,
   "id": "aee6f3f1-b83d-48c4-a217-aa539043e874",
   "metadata": {},
   "outputs": [],
   "source": [
    "second_train = df[df['client_num'].isin(train['client_num'])].reset_index(drop = True)"
   ]
  },
  {
   "cell_type": "code",
   "execution_count": 19,
   "id": "a5222b80-2284-4fc2-816d-ec2a134551fa",
   "metadata": {},
   "outputs": [],
   "source": [
    "second_test = df[~df['client_num'].isin(train['client_num'])].reset_index(drop = True)"
   ]
  },
  {
   "cell_type": "code",
   "execution_count": 20,
   "id": "8c394866-19df-4f68-8a13-f70cad7860f4",
   "metadata": {
    "scrolled": true
   },
   "outputs": [
    {
     "data": {
      "text/plain": [
       "True"
      ]
     },
     "execution_count": 20,
     "metadata": {},
     "output_type": "execute_result"
    }
   ],
   "source": [
    "# Проверка разделения\n",
    "(len(second_train['client_num'].unique()) + len(second_test['client_num'].unique())) == (len(df['client_num'].unique()))"
   ]
  },
  {
   "cell_type": "code",
   "execution_count": 21,
   "id": "6289ff1d-c35a-4f47-a1cb-c63fa02da7ba",
   "metadata": {},
   "outputs": [],
   "source": [
    "second_train = second_train.drop(columns=['mcc_code', 'merchant_name'], axis=1)\n",
    "second_test = second_test.drop(columns=['mcc_code', 'merchant_name'], axis=1)"
   ]
  },
  {
   "cell_type": "code",
   "execution_count": 22,
   "id": "3d135c95-9c56-4839-9833-53746c57da5d",
   "metadata": {},
   "outputs": [],
   "source": [
    "amount_border = 2000000\n",
    "\n",
    "second_train = second_train[second_train['amount'] < amount_border]"
   ]
  },
  {
   "cell_type": "code",
   "execution_count": 23,
   "id": "e7be2cbc-c233-43ce-a643-25c873988683",
   "metadata": {},
   "outputs": [],
   "source": [
    "def preparation_matrix_second (df):\n",
    "    df['date_time'] = df['date_time'].dt.date #Преобразовали в дату для группировки \n",
    "    grouped = df.groupby(['client_num', 'date_time'])['amount'].agg('sum').reset_index()\n",
    "\n",
    "    client_nums = grouped['client_num'].unique()\n",
    "    date_range = pd.date_range(start='2024-07-01', end='2024-09-30', freq='D')  \n",
    "    index = pd.MultiIndex.from_product([client_nums, date_range], names=['client_num', 'date_time'])\n",
    "    result_date = pd.DataFrame(index=index).reset_index()\n",
    "    result_date['date_time'] = pd.to_datetime(result_date['date_time']).dt.date\n",
    "    grouped['date_time'] = pd.to_datetime(grouped['date_time']).dt.date\n",
    "    df = result_date.merge(grouped, on =['client_num', 'date_time'], how = 'left')\n",
    "\n",
    "    df = df.pivot_table(columns = 'date_time', index = 'client_num', values='amount', aggfunc='sum').reset_index()\n",
    "    \n",
    "    return(df)"
   ]
  },
  {
   "cell_type": "code",
   "execution_count": 24,
   "id": "7624cf63-7c40-4ea4-889e-035e1164335c",
   "metadata": {},
   "outputs": [],
   "source": [
    "second_train_prepered = preparation_matrix_second(second_train)"
   ]
  },
  {
   "cell_type": "code",
   "execution_count": 25,
   "id": "7ad0aa95-cffe-4c11-bea9-c1a9364889a6",
   "metadata": {},
   "outputs": [],
   "source": [
    "second_test_prepered = preparation_matrix_second(second_test)"
   ]
  },
  {
   "cell_type": "code",
   "execution_count": 26,
   "id": "9197b425-4a0c-4f60-8961-860dd09f1551",
   "metadata": {},
   "outputs": [],
   "source": [
    "second_train_prepered = second_train_prepered.merge(pivot_data_iter_1, on='client_num', how='left').fillna(0)\n",
    "second_test_prepered = second_test_prepered.merge(pivot_data_iter_1, on='client_num', how='left').fillna(0)"
   ]
  },
  {
   "cell_type": "markdown",
   "id": "145e96dd-50c2-48f0-9851-392c1fbfcf73",
   "metadata": {},
   "source": [
    "Сделаем таблицу с поиском по MCC кодам"
   ]
  },
  {
   "cell_type": "code",
   "execution_count": 28,
   "id": "fad85cc1-2de4-4a0d-a850-f12474342130",
   "metadata": {},
   "outputs": [],
   "source": [
    "mcc_code = df.copy()"
   ]
  },
  {
   "cell_type": "code",
   "execution_count": 29,
   "id": "b25f4c79-cf71-46b1-bb2a-d8499efe8fb4",
   "metadata": {},
   "outputs": [],
   "source": [
    "mcc_code['date_time'] = mcc_code['date_time'].dt.month"
   ]
  },
  {
   "cell_type": "code",
   "execution_count": 30,
   "id": "636af127-c95b-4880-be69-55882b125a87",
   "metadata": {},
   "outputs": [],
   "source": [
    "mcc_table = mcc_code.pivot_table(columns=['date_time', 'mcc_code'], index='client_num', values='merchant_name', aggfunc='count').reset_index().fillna(0)"
   ]
  },
  {
   "cell_type": "code",
   "execution_count": 31,
   "id": "d5f23c08-05a9-4444-871f-75feafffba91",
   "metadata": {},
   "outputs": [],
   "source": [
    "jule = mcc_table[7]\n",
    "august = mcc_table[8]\n",
    "september = mcc_table[9]"
   ]
  },
  {
   "cell_type": "code",
   "execution_count": 32,
   "id": "3c0f2a03-be4b-4896-8bf5-fcb44068240c",
   "metadata": {},
   "outputs": [],
   "source": [
    "jule.columns = ['jule_' + col for col in jule.columns]\n",
    "august.columns = ['august_' + col for col in august.columns]\n",
    "september.columns = ['september_' + col for col in september.columns]\n",
    "\n",
    "jule = jule.reset_index()\n",
    "august = august.reset_index()\n",
    "september = september.reset_index()"
   ]
  },
  {
   "cell_type": "code",
   "execution_count": 33,
   "id": "57e025aa-9a59-4537-8b85-5808d87b2e7c",
   "metadata": {},
   "outputs": [],
   "source": [
    "mcc_table = jule.merge(august, on='index', how='left')\n",
    "mcc_table = mcc_table.merge(september, on='index', how='left')\n",
    "\n",
    "mcc_table = mcc_table.rename(columns = {'index':'client_num'})"
   ]
  },
  {
   "cell_type": "code",
   "execution_count": 34,
   "id": "0b765213-72e1-4301-a8eb-26f703751db0",
   "metadata": {},
   "outputs": [],
   "source": [
    "second_train_prepered_mcc = second_train_prepered.merge(mcc_table, on='client_num', how='left')\n",
    "second_test_prepered_mcc = second_test_prepered.merge(mcc_table, on='client_num', how='left')"
   ]
  },
  {
   "cell_type": "markdown",
   "id": "f26e0f1e-44d2-4431-9918-ddebe8d00ca9",
   "metadata": {},
   "source": [
    "Подготовили таблицы, объеденяем и после этого смотрим на метрику на кросс валидации"
   ]
  },
  {
   "cell_type": "code",
   "execution_count": 36,
   "id": "2b677b1b-1211-4ad9-ae3d-2a17bfeb869b",
   "metadata": {},
   "outputs": [],
   "source": [
    "second_XY_train_prepered = second_train_prepered_mcc.merge(train, on ='client_num', how='left')"
   ]
  },
  {
   "cell_type": "code",
   "execution_count": 37,
   "id": "0a76a1c6-f888-4174-9ec7-261838dd1665",
   "metadata": {},
   "outputs": [],
   "source": [
    "X_train_2 = second_XY_train_prepered.drop(columns=['client_num', 'target'], axis=1)\n",
    "y_train_2 = second_XY_train_prepered['target']"
   ]
  },
  {
   "cell_type": "code",
   "execution_count": 38,
   "id": "87096334-11df-4563-8bac-0c0daae20c94",
   "metadata": {},
   "outputs": [],
   "source": [
    "X_test_2 = second_test_prepered_mcc.drop(columns='client_num', axis=1)"
   ]
  },
  {
   "cell_type": "code",
   "execution_count": 39,
   "id": "78c3def6-4024-43c2-ad58-d115862c5ccf",
   "metadata": {},
   "outputs": [],
   "source": [
    "X_train_2.columns = X_train_2.columns.astype(str)\n",
    "X_test_2.columns = X_test_2.columns.astype(str)"
   ]
  },
  {
   "cell_type": "code",
   "execution_count": 40,
   "id": "3b73ea52-8991-4edf-b1e3-da598caed10b",
   "metadata": {},
   "outputs": [],
   "source": [
    "scaler = StandardScaler()\n",
    "\n",
    "# Масштабирование данных\n",
    "X_train_scaled = scaler.fit_transform(X_train_2)\n",
    "X_test_scaled = scaler.transform(X_test_2)\n",
    "\n",
    "# Преобразование в DataFrame с сохранением колонок и индексов\n",
    "X_train_2 = pd.DataFrame(X_train_scaled, columns=X_train_2.columns, index=X_train_2.index)\n",
    "X_test_2 = pd.DataFrame(X_test_scaled, columns=X_test_2.columns, index=X_test_2.index)"
   ]
  },
  {
   "cell_type": "code",
   "execution_count": 41,
   "id": "04a03e6c-d578-41a3-8d23-998fce1eb5f4",
   "metadata": {},
   "outputs": [
    {
     "data": {
      "text/html": [
       "<div>\n",
       "<style scoped>\n",
       "    .dataframe tbody tr th:only-of-type {\n",
       "        vertical-align: middle;\n",
       "    }\n",
       "\n",
       "    .dataframe tbody tr th {\n",
       "        vertical-align: top;\n",
       "    }\n",
       "\n",
       "    .dataframe thead th {\n",
       "        text-align: right;\n",
       "    }\n",
       "</style>\n",
       "<table border=\"1\" class=\"dataframe\">\n",
       "  <thead>\n",
       "    <tr style=\"text-align: right;\">\n",
       "      <th></th>\n",
       "      <th>2024-07-01</th>\n",
       "      <th>2024-07-02</th>\n",
       "      <th>2024-07-03</th>\n",
       "      <th>2024-07-04</th>\n",
       "      <th>2024-07-05</th>\n",
       "      <th>2024-07-06</th>\n",
       "      <th>2024-07-07</th>\n",
       "      <th>2024-07-08</th>\n",
       "      <th>2024-07-09</th>\n",
       "      <th>2024-07-10</th>\n",
       "      <th>...</th>\n",
       "      <th>september_8734</th>\n",
       "      <th>september_8911</th>\n",
       "      <th>september_8931</th>\n",
       "      <th>september_8999</th>\n",
       "      <th>september_9222</th>\n",
       "      <th>september_9311</th>\n",
       "      <th>september_9390</th>\n",
       "      <th>september_9399</th>\n",
       "      <th>september_9402</th>\n",
       "      <th>september_9406</th>\n",
       "    </tr>\n",
       "  </thead>\n",
       "  <tbody>\n",
       "    <tr>\n",
       "      <th>0</th>\n",
       "      <td>0.356359</td>\n",
       "      <td>3.115925</td>\n",
       "      <td>-0.047016</td>\n",
       "      <td>0.018094</td>\n",
       "      <td>0.347422</td>\n",
       "      <td>-0.100429</td>\n",
       "      <td>-0.091886</td>\n",
       "      <td>-0.045316</td>\n",
       "      <td>1.528993</td>\n",
       "      <td>-0.020553</td>\n",
       "      <td>...</td>\n",
       "      <td>-0.008452</td>\n",
       "      <td>-0.010102</td>\n",
       "      <td>-0.005415</td>\n",
       "      <td>-0.112449</td>\n",
       "      <td>1.844571</td>\n",
       "      <td>-0.129656</td>\n",
       "      <td>-0.091038</td>\n",
       "      <td>-0.05679</td>\n",
       "      <td>-0.058675</td>\n",
       "      <td>-0.018844</td>\n",
       "    </tr>\n",
       "    <tr>\n",
       "      <th>1</th>\n",
       "      <td>-0.036699</td>\n",
       "      <td>-0.045660</td>\n",
       "      <td>0.064789</td>\n",
       "      <td>-0.039551</td>\n",
       "      <td>-0.054191</td>\n",
       "      <td>0.113408</td>\n",
       "      <td>0.016169</td>\n",
       "      <td>0.085083</td>\n",
       "      <td>-0.039546</td>\n",
       "      <td>0.027655</td>\n",
       "      <td>...</td>\n",
       "      <td>-0.008452</td>\n",
       "      <td>-0.010102</td>\n",
       "      <td>-0.005415</td>\n",
       "      <td>-0.112449</td>\n",
       "      <td>-0.045469</td>\n",
       "      <td>-0.129656</td>\n",
       "      <td>-0.091038</td>\n",
       "      <td>-0.05679</td>\n",
       "      <td>-0.058675</td>\n",
       "      <td>-0.018844</td>\n",
       "    </tr>\n",
       "    <tr>\n",
       "      <th>2</th>\n",
       "      <td>-0.022344</td>\n",
       "      <td>-0.076703</td>\n",
       "      <td>-0.097328</td>\n",
       "      <td>0.078691</td>\n",
       "      <td>29.093719</td>\n",
       "      <td>-0.014843</td>\n",
       "      <td>0.076782</td>\n",
       "      <td>-0.052948</td>\n",
       "      <td>-0.061843</td>\n",
       "      <td>-0.067405</td>\n",
       "      <td>...</td>\n",
       "      <td>-0.008452</td>\n",
       "      <td>-0.010102</td>\n",
       "      <td>-0.005415</td>\n",
       "      <td>-0.112449</td>\n",
       "      <td>7.514691</td>\n",
       "      <td>4.076061</td>\n",
       "      <td>-0.091038</td>\n",
       "      <td>-0.05679</td>\n",
       "      <td>-0.058675</td>\n",
       "      <td>-0.018844</td>\n",
       "    </tr>\n",
       "    <tr>\n",
       "      <th>3</th>\n",
       "      <td>-0.085369</td>\n",
       "      <td>-0.064401</td>\n",
       "      <td>0.008857</td>\n",
       "      <td>-0.072179</td>\n",
       "      <td>1.160383</td>\n",
       "      <td>-0.100429</td>\n",
       "      <td>-0.091886</td>\n",
       "      <td>-0.046129</td>\n",
       "      <td>-0.054771</td>\n",
       "      <td>-0.049589</td>\n",
       "      <td>...</td>\n",
       "      <td>-0.008452</td>\n",
       "      <td>-0.010102</td>\n",
       "      <td>-0.005415</td>\n",
       "      <td>-0.112449</td>\n",
       "      <td>-0.045469</td>\n",
       "      <td>-0.129656</td>\n",
       "      <td>-0.091038</td>\n",
       "      <td>-0.05679</td>\n",
       "      <td>-0.058675</td>\n",
       "      <td>-0.018844</td>\n",
       "    </tr>\n",
       "    <tr>\n",
       "      <th>4</th>\n",
       "      <td>-0.032581</td>\n",
       "      <td>-0.067802</td>\n",
       "      <td>-0.094652</td>\n",
       "      <td>-0.080196</td>\n",
       "      <td>-0.043312</td>\n",
       "      <td>-0.062771</td>\n",
       "      <td>-0.091886</td>\n",
       "      <td>-0.056870</td>\n",
       "      <td>-0.066345</td>\n",
       "      <td>-0.059472</td>\n",
       "      <td>...</td>\n",
       "      <td>-0.008452</td>\n",
       "      <td>-0.010102</td>\n",
       "      <td>-0.005415</td>\n",
       "      <td>3.196254</td>\n",
       "      <td>-0.045469</td>\n",
       "      <td>-0.129656</td>\n",
       "      <td>-0.091038</td>\n",
       "      <td>-0.05679</td>\n",
       "      <td>-0.058675</td>\n",
       "      <td>-0.018844</td>\n",
       "    </tr>\n",
       "    <tr>\n",
       "      <th>...</th>\n",
       "      <td>...</td>\n",
       "      <td>...</td>\n",
       "      <td>...</td>\n",
       "      <td>...</td>\n",
       "      <td>...</td>\n",
       "      <td>...</td>\n",
       "      <td>...</td>\n",
       "      <td>...</td>\n",
       "      <td>...</td>\n",
       "      <td>...</td>\n",
       "      <td>...</td>\n",
       "      <td>...</td>\n",
       "      <td>...</td>\n",
       "      <td>...</td>\n",
       "      <td>...</td>\n",
       "      <td>...</td>\n",
       "      <td>...</td>\n",
       "      <td>...</td>\n",
       "      <td>...</td>\n",
       "      <td>...</td>\n",
       "      <td>...</td>\n",
       "    </tr>\n",
       "    <tr>\n",
       "      <th>69995</th>\n",
       "      <td>-0.085369</td>\n",
       "      <td>-0.082733</td>\n",
       "      <td>-0.097328</td>\n",
       "      <td>0.068715</td>\n",
       "      <td>-0.078282</td>\n",
       "      <td>-0.100429</td>\n",
       "      <td>-0.091886</td>\n",
       "      <td>-0.057401</td>\n",
       "      <td>-0.067619</td>\n",
       "      <td>-0.067405</td>\n",
       "      <td>...</td>\n",
       "      <td>-0.008452</td>\n",
       "      <td>-0.010102</td>\n",
       "      <td>-0.005415</td>\n",
       "      <td>-0.112449</td>\n",
       "      <td>-0.045469</td>\n",
       "      <td>-0.129656</td>\n",
       "      <td>-0.091038</td>\n",
       "      <td>-0.05679</td>\n",
       "      <td>-0.058675</td>\n",
       "      <td>-0.018844</td>\n",
       "    </tr>\n",
       "    <tr>\n",
       "      <th>69996</th>\n",
       "      <td>-0.085369</td>\n",
       "      <td>-0.082733</td>\n",
       "      <td>-0.097328</td>\n",
       "      <td>-0.080959</td>\n",
       "      <td>-0.081827</td>\n",
       "      <td>-0.100429</td>\n",
       "      <td>-0.091886</td>\n",
       "      <td>-0.057401</td>\n",
       "      <td>-0.067619</td>\n",
       "      <td>-0.067405</td>\n",
       "      <td>...</td>\n",
       "      <td>-0.008452</td>\n",
       "      <td>-0.010102</td>\n",
       "      <td>-0.005415</td>\n",
       "      <td>-0.112449</td>\n",
       "      <td>-0.045469</td>\n",
       "      <td>-0.129656</td>\n",
       "      <td>-0.091038</td>\n",
       "      <td>-0.05679</td>\n",
       "      <td>-0.058675</td>\n",
       "      <td>-0.018844</td>\n",
       "    </tr>\n",
       "    <tr>\n",
       "      <th>69997</th>\n",
       "      <td>-0.085369</td>\n",
       "      <td>-0.082733</td>\n",
       "      <td>-0.097328</td>\n",
       "      <td>-0.080959</td>\n",
       "      <td>-0.081827</td>\n",
       "      <td>-0.100429</td>\n",
       "      <td>-0.091886</td>\n",
       "      <td>-0.057401</td>\n",
       "      <td>-0.067619</td>\n",
       "      <td>-0.067405</td>\n",
       "      <td>...</td>\n",
       "      <td>-0.008452</td>\n",
       "      <td>-0.010102</td>\n",
       "      <td>-0.005415</td>\n",
       "      <td>-0.112449</td>\n",
       "      <td>-0.045469</td>\n",
       "      <td>-0.129656</td>\n",
       "      <td>-0.091038</td>\n",
       "      <td>-0.05679</td>\n",
       "      <td>-0.058675</td>\n",
       "      <td>-0.018844</td>\n",
       "    </tr>\n",
       "    <tr>\n",
       "      <th>69998</th>\n",
       "      <td>-0.085369</td>\n",
       "      <td>-0.082733</td>\n",
       "      <td>-0.097328</td>\n",
       "      <td>-0.080959</td>\n",
       "      <td>-0.081827</td>\n",
       "      <td>-0.100429</td>\n",
       "      <td>-0.091886</td>\n",
       "      <td>0.136935</td>\n",
       "      <td>-0.067619</td>\n",
       "      <td>-0.067405</td>\n",
       "      <td>...</td>\n",
       "      <td>-0.008452</td>\n",
       "      <td>-0.010102</td>\n",
       "      <td>-0.005415</td>\n",
       "      <td>-0.112449</td>\n",
       "      <td>-0.045469</td>\n",
       "      <td>-0.129656</td>\n",
       "      <td>-0.091038</td>\n",
       "      <td>-0.05679</td>\n",
       "      <td>-0.058675</td>\n",
       "      <td>-0.018844</td>\n",
       "    </tr>\n",
       "    <tr>\n",
       "      <th>69999</th>\n",
       "      <td>-0.085369</td>\n",
       "      <td>-0.082733</td>\n",
       "      <td>-0.097328</td>\n",
       "      <td>-0.080959</td>\n",
       "      <td>-0.081827</td>\n",
       "      <td>-0.100429</td>\n",
       "      <td>-0.091886</td>\n",
       "      <td>-0.057401</td>\n",
       "      <td>-0.067619</td>\n",
       "      <td>-0.067405</td>\n",
       "      <td>...</td>\n",
       "      <td>-0.008452</td>\n",
       "      <td>-0.010102</td>\n",
       "      <td>-0.005415</td>\n",
       "      <td>-0.112449</td>\n",
       "      <td>-0.045469</td>\n",
       "      <td>-0.129656</td>\n",
       "      <td>-0.091038</td>\n",
       "      <td>-0.05679</td>\n",
       "      <td>-0.058675</td>\n",
       "      <td>-0.018844</td>\n",
       "    </tr>\n",
       "  </tbody>\n",
       "</table>\n",
       "<p>70000 rows × 1024 columns</p>\n",
       "</div>"
      ],
      "text/plain": [
       "       2024-07-01  2024-07-02  2024-07-03  2024-07-04  2024-07-05  2024-07-06  \\\n",
       "0        0.356359    3.115925   -0.047016    0.018094    0.347422   -0.100429   \n",
       "1       -0.036699   -0.045660    0.064789   -0.039551   -0.054191    0.113408   \n",
       "2       -0.022344   -0.076703   -0.097328    0.078691   29.093719   -0.014843   \n",
       "3       -0.085369   -0.064401    0.008857   -0.072179    1.160383   -0.100429   \n",
       "4       -0.032581   -0.067802   -0.094652   -0.080196   -0.043312   -0.062771   \n",
       "...           ...         ...         ...         ...         ...         ...   \n",
       "69995   -0.085369   -0.082733   -0.097328    0.068715   -0.078282   -0.100429   \n",
       "69996   -0.085369   -0.082733   -0.097328   -0.080959   -0.081827   -0.100429   \n",
       "69997   -0.085369   -0.082733   -0.097328   -0.080959   -0.081827   -0.100429   \n",
       "69998   -0.085369   -0.082733   -0.097328   -0.080959   -0.081827   -0.100429   \n",
       "69999   -0.085369   -0.082733   -0.097328   -0.080959   -0.081827   -0.100429   \n",
       "\n",
       "       2024-07-07  2024-07-08  2024-07-09  2024-07-10  ...  september_8734  \\\n",
       "0       -0.091886   -0.045316    1.528993   -0.020553  ...       -0.008452   \n",
       "1        0.016169    0.085083   -0.039546    0.027655  ...       -0.008452   \n",
       "2        0.076782   -0.052948   -0.061843   -0.067405  ...       -0.008452   \n",
       "3       -0.091886   -0.046129   -0.054771   -0.049589  ...       -0.008452   \n",
       "4       -0.091886   -0.056870   -0.066345   -0.059472  ...       -0.008452   \n",
       "...           ...         ...         ...         ...  ...             ...   \n",
       "69995   -0.091886   -0.057401   -0.067619   -0.067405  ...       -0.008452   \n",
       "69996   -0.091886   -0.057401   -0.067619   -0.067405  ...       -0.008452   \n",
       "69997   -0.091886   -0.057401   -0.067619   -0.067405  ...       -0.008452   \n",
       "69998   -0.091886    0.136935   -0.067619   -0.067405  ...       -0.008452   \n",
       "69999   -0.091886   -0.057401   -0.067619   -0.067405  ...       -0.008452   \n",
       "\n",
       "       september_8911  september_8931  september_8999  september_9222  \\\n",
       "0           -0.010102       -0.005415       -0.112449        1.844571   \n",
       "1           -0.010102       -0.005415       -0.112449       -0.045469   \n",
       "2           -0.010102       -0.005415       -0.112449        7.514691   \n",
       "3           -0.010102       -0.005415       -0.112449       -0.045469   \n",
       "4           -0.010102       -0.005415        3.196254       -0.045469   \n",
       "...               ...             ...             ...             ...   \n",
       "69995       -0.010102       -0.005415       -0.112449       -0.045469   \n",
       "69996       -0.010102       -0.005415       -0.112449       -0.045469   \n",
       "69997       -0.010102       -0.005415       -0.112449       -0.045469   \n",
       "69998       -0.010102       -0.005415       -0.112449       -0.045469   \n",
       "69999       -0.010102       -0.005415       -0.112449       -0.045469   \n",
       "\n",
       "       september_9311  september_9390  september_9399  september_9402  \\\n",
       "0           -0.129656       -0.091038        -0.05679       -0.058675   \n",
       "1           -0.129656       -0.091038        -0.05679       -0.058675   \n",
       "2            4.076061       -0.091038        -0.05679       -0.058675   \n",
       "3           -0.129656       -0.091038        -0.05679       -0.058675   \n",
       "4           -0.129656       -0.091038        -0.05679       -0.058675   \n",
       "...               ...             ...             ...             ...   \n",
       "69995       -0.129656       -0.091038        -0.05679       -0.058675   \n",
       "69996       -0.129656       -0.091038        -0.05679       -0.058675   \n",
       "69997       -0.129656       -0.091038        -0.05679       -0.058675   \n",
       "69998       -0.129656       -0.091038        -0.05679       -0.058675   \n",
       "69999       -0.129656       -0.091038        -0.05679       -0.058675   \n",
       "\n",
       "       september_9406  \n",
       "0           -0.018844  \n",
       "1           -0.018844  \n",
       "2           -0.018844  \n",
       "3           -0.018844  \n",
       "4           -0.018844  \n",
       "...               ...  \n",
       "69995       -0.018844  \n",
       "69996       -0.018844  \n",
       "69997       -0.018844  \n",
       "69998       -0.018844  \n",
       "69999       -0.018844  \n",
       "\n",
       "[70000 rows x 1024 columns]"
      ]
     },
     "execution_count": 41,
     "metadata": {},
     "output_type": "execute_result"
    }
   ],
   "source": [
    "X_train_2"
   ]
  },
  {
   "cell_type": "code",
   "execution_count": 42,
   "id": "1e688893-4359-4f7e-a35c-49d182c047ea",
   "metadata": {},
   "outputs": [],
   "source": [
    "pipeline = Pipeline(\n",
    "    [\n",
    "        #('imputer', SimpleImputer(strategy='mean')),\n",
    "        ('model', CatBoostClassifier(random_state = RANDOM_STATE))\n",
    "    ])\n",
    "\n",
    "params = [\n",
    "    { \n",
    "       'model': [CatBoostClassifier(random_state=RANDOM_STATE, iterations = 4000)]#, \n",
    "        #'model__iterations': [100, 500, 1000, 2000, 3000],\n",
    "        # #'model__depth': [6, 8, 10],\n",
    "        # 'model__learning_rate': [0.01, 0.05, 0.1],\n",
    "        # #'model__l2_leaf_reg': [1, 3, 5, 7],\n",
    "        #'model__loss_function': ['MultiClass']\n",
    "    }\n",
    "]"
   ]
  },
  {
   "cell_type": "code",
   "execution_count": null,
   "id": "49d4bde0-f25d-424a-9be2-627e3ea5dfb9",
   "metadata": {
    "scrolled": true
   },
   "outputs": [],
   "source": [
    "GridSearch = GridSearchCV (estimator = pipeline,\n",
    "                         param_grid = params,\n",
    "                         cv = 3,\n",
    "                         scoring = 'f1_weighted',\n",
    "                         n_jobs = -1)\n",
    "\n",
    "GridSearch.fit(X_train_2, y_train_2)"
   ]
  },
  {
   "cell_type": "code",
   "execution_count": null,
   "id": "9038a47e-574c-43d7-be36-26b89f27437c",
   "metadata": {},
   "outputs": [],
   "source": [
    "results = pd.DataFrame(GridSearch.cv_results_)"
   ]
  },
  {
   "cell_type": "code",
   "execution_count": null,
   "id": "c36e75a5-fcf5-4571-981c-179732586be0",
   "metadata": {},
   "outputs": [],
   "source": [
    "results = results[\n",
    "    [\n",
    "        'param_model',\n",
    "        'mean_test_score',\n",
    "        'std_test_score',\n",
    "        'mean_fit_time',\n",
    "        'mean_score_time',\n",
    "        'params'\n",
    "    ]\n",
    "]\n",
    "results"
   ]
  },
  {
   "cell_type": "code",
   "execution_count": null,
   "id": "8cc89553-dc56-4897-baf2-2950de4c6ba9",
   "metadata": {},
   "outputs": [],
   "source": [
    "print(f'Лучшая модель: {GridSearch.best_estimator_}')\n",
    "print(F'Метрика ROC-AUC на трейновой выборке: (ROC-AUC) {GridSearch.best_score_}')"
   ]
  },
  {
   "cell_type": "code",
   "execution_count": null,
   "id": "49d69de3-921e-4ac9-840d-3a942670c226",
   "metadata": {},
   "outputs": [],
   "source": [
    "model_2 = GridSearch.best_estimator_"
   ]
  },
  {
   "cell_type": "code",
   "execution_count": null,
   "id": "239a1e33-5876-4be0-9929-444246fa4a85",
   "metadata": {
    "scrolled": true
   },
   "outputs": [],
   "source": [
    "# model_2 = CatBoostClassifier(border_count = None)\n",
    "\n",
    "# # Оценка модели с использованием кросс-валидации и метрики F1\n",
    "# f1_scores = cross_val_score(model_2, X_train_2, y_train_2, cv=5, scoring='f1_weighted')\n",
    "\n",
    "# # Выводим метрики F1 для каждой итерации кросс-валидации\n",
    "# print(f\"F1 Scores for each fold: {f1_scores}\")\n",
    "# print(f\"Mean F1 Score: {np.mean(f1_scores)}\")"
   ]
  },
  {
   "cell_type": "code",
   "execution_count": null,
   "id": "faa34471-0640-4b27-801d-bbdcfab0457f",
   "metadata": {
    "scrolled": true
   },
   "outputs": [],
   "source": [
    "# model_2.fit(X_train_2, y_train_2)"
   ]
  },
  {
   "cell_type": "code",
   "execution_count": null,
   "id": "5cc71186-3092-4111-815d-b373ed028022",
   "metadata": {},
   "outputs": [],
   "source": [
    "# f1_weighted = f1_score(y_train_2, model_2.predict(X_train_2), average='weighted')\n",
    "# print(f1_weighted)\n",
    "# # Прогнозирование на тестовом наборе данных\n",
    "# y_pred_2 = model_2.predict(X_test_2)"
   ]
  },
  {
   "cell_type": "code",
   "execution_count": null,
   "id": "f486e201-b53d-4504-a7eb-fdc85d14f00b",
   "metadata": {},
   "outputs": [],
   "source": [
    "y_pred_2 = model_2.predict(X_test_2)\n",
    "\n",
    "y_pred_2 = pd.Series(y_pred_2.flatten(), name='predictions')  \n",
    "\n",
    "y_pred_2 = pd.concat([second_test_prepered, y_pred_2], axis=1)"
   ]
  },
  {
   "cell_type": "code",
   "execution_count": null,
   "id": "4ba34e3e-4d14-4885-b34b-8834d29571e8",
   "metadata": {},
   "outputs": [],
   "source": [
    "y_pred_2 = y_pred_2[['client_num', 'predictions']]"
   ]
  },
  {
   "cell_type": "code",
   "execution_count": null,
   "id": "7f8f79b9-215c-4bc3-9553-85999fff6813",
   "metadata": {},
   "outputs": [],
   "source": [
    "y_pred_2 = y_pred_2.rename(columns = {'predictions' : 'target'})"
   ]
  },
  {
   "cell_type": "code",
   "execution_count": null,
   "id": "fa33c8f6-7f8b-4d37-b154-67fcb322727e",
   "metadata": {},
   "outputs": [],
   "source": [
    "y_pred_2.to_csv(\"3_full_table_everyday_plus_month_cmm.csv\", index=False, encoding='utf-8')"
   ]
  },
  {
   "cell_type": "code",
   "execution_count": null,
   "id": "fe8c24e9-73f3-4b5a-93df-8c55387cf5bf",
   "metadata": {},
   "outputs": [],
   "source": []
  },
  {
   "cell_type": "code",
   "execution_count": null,
   "id": "dcda1d68-d6ba-402a-84ca-14d93e4edd5d",
   "metadata": {},
   "outputs": [],
   "source": []
  },
  {
   "cell_type": "code",
   "execution_count": null,
   "id": "30ca5183-3cbb-4ecc-b20e-d0b5a76f37a1",
   "metadata": {},
   "outputs": [],
   "source": []
  },
  {
   "cell_type": "code",
   "execution_count": null,
   "id": "411d5cd0-a98f-4635-b98f-3926531f1ae5",
   "metadata": {},
   "outputs": [],
   "source": [
    "         RandomForestClassifier(random_state=413241)\t0.254422\t0.021893\t127.396442\t10.457033\t{'model': RandomForestClassifier(random_state=...\n",
    "1\t<catboost.core.CatBoostClassifier object at 0x...\t0.288678\t0.021375\t490.235836\t2.073135\t{'model': <catboost.core.CatBoostClassifier ob...\n",
    "2\tXGBClassifier(base_score=None, booster=None, c...\t0.278350\t0.017236\t254.088340\t11.657960\t{'model': XGBClassifier(base_score=None, boost...\n",
    "3\tLGBMClassifier(objective='multiclass', random_...\t0.280033\t0.019517\t448.554455\t3.825516\t{'model': LGBMClassifier(objective='multiclass...\n"
   ]
  },
  {
   "cell_type": "code",
   "execution_count": null,
   "id": "fc979068-4838-494a-9de4-38f3ea4b8793",
   "metadata": {},
   "outputs": [],
   "source": []
  },
  {
   "cell_type": "code",
   "execution_count": null,
   "id": "77baa77a-de7b-48ef-8337-fa4425552335",
   "metadata": {},
   "outputs": [],
   "source": []
  },
  {
   "cell_type": "markdown",
   "id": "bbbbbba3-69f6-43f1-af39-e77050577f14",
   "metadata": {},
   "source": [
    "# Выводы"
   ]
  },
  {
   "cell_type": "markdown",
   "id": "75d6a22c-2022-4aa8-ad84-39a94ab986a9",
   "metadata": {},
   "source": [
    "1. По первичному анализу можно сделать выводы что люди с категорией 6 тратят больше чем люди с категорией 0\n",
    "2. проведен анализ и предсказание по 3м месяцам (сумма за каждый месяц) в итоге на линейной регрессии получили значения метрики > 0.18 => что метрика на тестовой выборке 1.06.\n",
    "3. Применена более сложная модель для вычисления - catboost, результат применения которого дал значения метрики на кросс валидации = 0.24, в системе метрика улучшилась до 0.91\n",
    "4. катбуст без обрезания данных дал лучшее качество на 0.5% "
   ]
  },
  {
   "cell_type": "code",
   "execution_count": null,
   "id": "c07e48ef-413c-4489-a24c-c8ccebf40ceb",
   "metadata": {},
   "outputs": [],
   "source": [
    "[CatBoostClassifier(random_state=RANDOM_STATE, iterations = 3000)] с ограничением по переводам - 0.30335804501238783"
   ]
  },
  {
   "cell_type": "markdown",
   "id": "eff2b6e6-4af5-49d9-bfd9-8df69d6c6003",
   "metadata": {},
   "source": [
    "## "
   ]
  }
 ],
 "metadata": {
  "kernelspec": {
   "display_name": "Python 3 (ipykernel)",
   "language": "python",
   "name": "python3"
  },
  "language_info": {
   "codemirror_mode": {
    "name": "ipython",
    "version": 3
   },
   "file_extension": ".py",
   "mimetype": "text/x-python",
   "name": "python",
   "nbconvert_exporter": "python",
   "pygments_lexer": "ipython3",
   "version": "3.12.4"
  }
 },
 "nbformat": 4,
 "nbformat_minor": 5
}
